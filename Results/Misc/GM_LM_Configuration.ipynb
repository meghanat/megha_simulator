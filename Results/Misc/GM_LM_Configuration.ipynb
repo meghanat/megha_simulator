{
 "cells": [
  {
   "cell_type": "code",
   "execution_count": 6,
   "metadata": {},
   "outputs": [],
   "source": [
    "def calc_times(path):\n",
    "    file = open(path, 'r')\n",
    "    line = file.readline()\n",
    "    job_comp_times = []\n",
    "\n",
    "    while(len(line) != 0):\n",
    "        #print(line)\n",
    "        line = line.split()\n",
    "\n",
    "        if(len(line) != 0 and line[0] == \"Jobs_Info\"):\n",
    "            line = file.readline()\n",
    "\n",
    "            while(len(line) != 0):\n",
    "                line = line.split()\n",
    "\n",
    "                temp = float(line[4]) - float(line[3])  \n",
    "                job_comp_times.append(temp)         \n",
    "\n",
    "                line = file.readline()\n",
    "                           \n",
    "        line = file.readline()\n",
    "    file.close()\n",
    "    return job_comp_times"
   ]
  },
  {
   "cell_type": "code",
   "execution_count": 7,
   "metadata": {},
   "outputs": [],
   "source": [
    "BASE_FILE_PATH = \"./Data/outputs/\""
   ]
  },
  {
   "cell_type": "code",
   "execution_count": 8,
   "metadata": {},
   "outputs": [],
   "source": [
    "jc_times_1_0 = calc_times(BASE_FILE_PATH + \"YH_1_1_OP.tr\")"
   ]
  },
  {
   "cell_type": "code",
   "execution_count": 9,
   "metadata": {},
   "outputs": [],
   "source": [
    "jc_times_1_1 = calc_times(BASE_FILE_PATH + \"YH_1_10_OP.tr\")"
   ]
  },
  {
   "cell_type": "code",
   "execution_count": 10,
   "metadata": {},
   "outputs": [],
   "source": [
    "jc_times_1_2 = calc_times(BASE_FILE_PATH + \"YH_10_1_OP.tr\")"
   ]
  },
  {
   "cell_type": "code",
   "execution_count": 11,
   "metadata": {},
   "outputs": [],
   "source": [
    "jc_times_1_3 = calc_times(BASE_FILE_PATH + \"YH_10_10_OP.tr\")"
   ]
  },
  {
   "cell_type": "code",
   "execution_count": 12,
   "metadata": {},
   "outputs": [],
   "source": [
    "jc_times_1_4 = calc_times(BASE_FILE_PATH + \"YH_10_100_OP.tr\")"
   ]
  },
  {
   "cell_type": "code",
   "execution_count": 13,
   "metadata": {},
   "outputs": [],
   "source": [
    "jc_times_1_5 = calc_times(BASE_FILE_PATH + \"YH_100_10_OP.tr\")"
   ]
  },
  {
   "cell_type": "markdown",
   "metadata": {},
   "source": [
    "---"
   ]
  },
  {
   "cell_type": "code",
   "execution_count": 18,
   "metadata": {},
   "outputs": [],
   "source": [
    "import matplotlib.pyplot as plt\n",
    "import numpy as np\n",
    "import pandas as pd\n",
    "import statistics"
   ]
  },
  {
   "cell_type": "code",
   "execution_count": 19,
   "metadata": {},
   "outputs": [
    {
     "data": {
      "image/png": "[encoded data removed]",
      "text/plain": [
       "<Figure size 720x360 with 1 Axes>"
      ]
     },
     "metadata": {
      "needs_background": "light"
     },
     "output_type": "display_data"
    }
   ],
   "source": [
    "labels = [\"1_1\", \"1_10\", \"10_1\", \"10_10\", \"10_100\", \"100_10\"]\n",
    "y_vals = [statistics.mean(jc_times_1_0), statistics.mean(jc_times_1_1), statistics.mean(jc_times_1_2), statistics.mean(jc_times_1_3), statistics.mean(jc_times_1_4), statistics.mean(jc_times_1_5)]\n",
    "\n",
    "fig = plt.figure(figsize = (10, 5))\n",
    " \n",
    "# creating the bar plot\n",
    "plt.bar(labels, y_vals, color ='maroon',\n",
    "        width = 0.3)\n",
    " \n",
    "plt.xlabel(\"LM_GM Configs\")\n",
    "plt.ylabel(\"Mean Job Completion Times\")\n",
    "plt.show()"
   ]
  },
  {
   "cell_type": "code",
   "execution_count": 20,
   "metadata": {},
   "outputs": [
    {
     "data": {
      "image/png": "[encoded data removed]",
      "text/plain": [
       "<Figure size 720x360 with 1 Axes>"
      ]
     },
     "metadata": {
      "needs_background": "light"
     },
     "output_type": "display_data"
    }
   ],
   "source": [
    "#labels = [\"1_0\", \"1_1\", \"1_2\", \"1_3\", \"1_4\", \"1_5\", \"1_6\", \"1_7\", \"1_8\", \"10_0\", \"10_1\", \"10_2\", \"10_3\", \"25_0\", \"25_1\", \"25_2\", \"50_0\", \"50_1\", \"100_0\"]\n",
    "'''labels = [\"1_100\", \"2_50\", \"4_25\", \"5_20\", \"10_10\", \"20_5\", \"25_4\", \"50_2\", \"100_1\", \"1_10\", \"2_5\", \"5_2\", \"10_1\", \"1_4\", \"2_2\", \"4_1\", \"1_2\", \"2_1\", \"1_1\"]\n",
    "y_vals = [statistics.median(jc_times_1_0), statistics.median(jc_times_1_1), statistics.median(jc_times_1_2), statistics.median(jc_times_1_3), statistics.median(jc_times_1_4), statistics.median(jc_times_1_5), statistics.median(jc_times_1_6), statistics.median(jc_times_1_7), statistics.median(jc_times_1_8), statistics.median(jc_times_10_0), statistics.median(jc_times_10_1), statistics.median(jc_times_10_2), statistics.median(jc_times_10_3), statistics.median(jc_times_25_0), statistics.median(jc_times_25_1), statistics.median(jc_times_25_2), statistics.median(jc_times_50_0), statistics.median(jc_times_50_1), statistics.median(jc_times_100_0)]\n",
    "\n",
    "fig = plt.figure(figsize = (10, 5))\n",
    " \n",
    "# creating the bar plot\n",
    "plt.bar(labels, y_vals, color ='maroon',\n",
    "        width = 0.3)\n",
    " \n",
    "plt.xlabel(\"LM_GM Configs\")\n",
    "plt.ylabel(\"Median Job Completion Times\")\n",
    "plt.show()'''\n",
    "\n",
    "labels = [\"1_1\", \"1_10\", \"10_1\", \"10_10\", \"10_100\", \"100_10\"]\n",
    "y_vals = [statistics.median(jc_times_1_0), statistics.median(jc_times_1_1), statistics.median(jc_times_1_2), statistics.mean(jc_times_1_3), statistics.median(jc_times_1_4), statistics.median(jc_times_1_5)]\n",
    "\n",
    "fig = plt.figure(figsize = (10, 5))\n",
    " \n",
    "# creating the bar plot\n",
    "plt.bar(labels, y_vals, color ='maroon',\n",
    "        width = 0.3)\n",
    " \n",
    "plt.xlabel(\"LM_GM Configs\")\n",
    "plt.ylabel(\"Median Job Completion Times\")\n",
    "plt.show()"
   ]
  },
  {
   "cell_type": "markdown",
   "metadata": {},
   "source": [
    "---"
   ]
  },
  {
   "cell_type": "code",
   "execution_count": 32,
   "metadata": {},
   "outputs": [],
   "source": [
    "df = pd.DataFrame(\n",
    "                  {'1_0': jc_times_1_0,\n",
    "                   '1_1': jc_times_1_1,\n",
    "                   '1_2': jc_times_1_2,\n",
    "                   '1_3': jc_times_1_3,\n",
    "                   '1_4': jc_times_1_4,\n",
    "                   '1_5': jc_times_1_5\n",
    "                  })"
   ]
  },
  {
   "cell_type": "code",
   "execution_count": 33,
   "metadata": {},
   "outputs": [
    {
     "data": {
      "text/html": [
       "<div>\n",
       "<style scoped>\n",
       "    .dataframe tbody tr th:only-of-type {\n",
       "        vertical-align: middle;\n",
       "    }\n",
       "\n",
       "    .dataframe tbody tr th {\n",
       "        vertical-align: top;\n",
       "    }\n",
       "\n",
       "    .dataframe thead th {\n",
       "        text-align: right;\n",
       "    }\n",
       "</style>\n",
       "<table border=\"1\" class=\"dataframe\">\n",
       "  <thead>\n",
       "    <tr style=\"text-align: right;\">\n",
       "      <th></th>\n",
       "      <th>1_0</th>\n",
       "      <th>1_1</th>\n",
       "      <th>1_2</th>\n",
       "      <th>1_3</th>\n",
       "      <th>1_4</th>\n",
       "      <th>1_5</th>\n",
       "    </tr>\n",
       "  </thead>\n",
       "  <tbody>\n",
       "    <tr>\n",
       "      <th>count</th>\n",
       "      <td>2910.000000</td>\n",
       "      <td>2910.000000</td>\n",
       "      <td>2910.000000</td>\n",
       "      <td>2910.000000</td>\n",
       "      <td>2910.000000</td>\n",
       "      <td>2910.000000</td>\n",
       "    </tr>\n",
       "    <tr>\n",
       "      <th>mean</th>\n",
       "      <td>148.374540</td>\n",
       "      <td>148.374544</td>\n",
       "      <td>148.374540</td>\n",
       "      <td>148.374545</td>\n",
       "      <td>148.374549</td>\n",
       "      <td>148.374544</td>\n",
       "    </tr>\n",
       "    <tr>\n",
       "      <th>std</th>\n",
       "      <td>688.605231</td>\n",
       "      <td>688.605230</td>\n",
       "      <td>688.605231</td>\n",
       "      <td>688.605230</td>\n",
       "      <td>688.605231</td>\n",
       "      <td>688.605230</td>\n",
       "    </tr>\n",
       "    <tr>\n",
       "      <th>min</th>\n",
       "      <td>0.001000</td>\n",
       "      <td>0.001000</td>\n",
       "      <td>0.001000</td>\n",
       "      <td>0.001000</td>\n",
       "      <td>0.001000</td>\n",
       "      <td>0.001000</td>\n",
       "    </tr>\n",
       "    <tr>\n",
       "      <th>25%</th>\n",
       "      <td>11.001000</td>\n",
       "      <td>11.001000</td>\n",
       "      <td>11.001000</td>\n",
       "      <td>11.001000</td>\n",
       "      <td>11.001000</td>\n",
       "      <td>11.001000</td>\n",
       "    </tr>\n",
       "    <tr>\n",
       "      <th>50%</th>\n",
       "      <td>24.001000</td>\n",
       "      <td>24.001000</td>\n",
       "      <td>24.001000</td>\n",
       "      <td>24.001000</td>\n",
       "      <td>24.001000</td>\n",
       "      <td>24.001000</td>\n",
       "    </tr>\n",
       "    <tr>\n",
       "      <th>75%</th>\n",
       "      <td>46.751000</td>\n",
       "      <td>46.751000</td>\n",
       "      <td>46.751000</td>\n",
       "      <td>46.751000</td>\n",
       "      <td>46.751000</td>\n",
       "      <td>46.751000</td>\n",
       "    </tr>\n",
       "    <tr>\n",
       "      <th>max</th>\n",
       "      <td>17936.001000</td>\n",
       "      <td>17936.001000</td>\n",
       "      <td>17936.001000</td>\n",
       "      <td>17936.001000</td>\n",
       "      <td>17936.001000</td>\n",
       "      <td>17936.001000</td>\n",
       "    </tr>\n",
       "  </tbody>\n",
       "</table>\n",
       "</div>"
      ],
      "text/plain": [
       "                1_0           1_1           1_2           1_3           1_4  \\\n",
       "count   2910.000000   2910.000000   2910.000000   2910.000000   2910.000000   \n",
       "mean     148.374540    148.374544    148.374540    148.374545    148.374549   \n",
       "std      688.605231    688.605230    688.605231    688.605230    688.605231   \n",
       "min        0.001000      0.001000      0.001000      0.001000      0.001000   \n",
       "25%       11.001000     11.001000     11.001000     11.001000     11.001000   \n",
       "50%       24.001000     24.001000     24.001000     24.001000     24.001000   \n",
       "75%       46.751000     46.751000     46.751000     46.751000     46.751000   \n",
       "max    17936.001000  17936.001000  17936.001000  17936.001000  17936.001000   \n",
       "\n",
       "                1_5  \n",
       "count   2910.000000  \n",
       "mean     148.374544  \n",
       "std      688.605230  \n",
       "min        0.001000  \n",
       "25%       11.001000  \n",
       "50%       24.001000  \n",
       "75%       46.751000  \n",
       "max    17936.001000  "
      ]
     },
     "execution_count": 33,
     "metadata": {},
     "output_type": "execute_result"
    }
   ],
   "source": [
    "df.describe()"
   ]
  },
  {
   "cell_type": "code",
   "execution_count": 34,
   "metadata": {
    "scrolled": false
   },
   "outputs": [
    {
     "data": {
      "text/plain": [
       "Text(0, 0.5, 'Job Completion Times')"
      ]
     },
     "execution_count": 34,
     "metadata": {},
     "output_type": "execute_result"
    },
    {
     "data": {
      "image/png": "[encoded data removed]",
      "text/plain": [
       "<Figure size 720x360 with 1 Axes>"
      ]
     },
     "metadata": {
      "needs_background": "light"
     },
     "output_type": "display_data"
    }
   ],
   "source": [
    "fig = plt.figure(figsize = (10, 5))\n",
    "\n",
    "df.boxplot(showfliers=False)\n",
    "\n",
    "plt.xlabel(\"LM_GM Configs\")\n",
    "plt.ylabel(\"Job Completion Times\")"
   ]
  },
  {
   "cell_type": "markdown",
   "metadata": {},
   "source": [
    "---"
   ]
  }
 ],
 "metadata": {
  "kernelspec": {
   "display_name": "Python 3.7.5 64-bit",
   "language": "python",
   "name": "python37564bit7a89c391513c4bc38fa2f540ce1b9659"
  },
  "language_info": {
   "codemirror_mode": {
    "name": "ipython",
    "version": 3
   },
   "file_extension": ".py",
   "mimetype": "text/x-python",
   "name": "python",
   "nbconvert_exporter": "python",
   "pygments_lexer": "ipython3",
   "version": "3.8.10"
  }
 },
 "nbformat": 4,
 "nbformat_minor": 4
}
