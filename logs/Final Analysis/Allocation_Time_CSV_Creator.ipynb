{
 "cells": [
  {
   "cell_type": "markdown",
   "metadata": {},
   "source": [
    "# Notebook to Create the `Allocation Time` CSV File"
   ]
  },
  {
   "cell_type": "code",
   "execution_count": 1,
   "metadata": {},
   "outputs": [],
   "source": [
    "import pandas as pd\n",
    "from pathlib import Path\n",
    "\n",
    "%matplotlib inline\n",
    "import matplotlib.pyplot as plt\n",
    "plt.style.use('seaborn-whitegrid')"
   ]
  },
  {
   "cell_type": "code",
   "execution_count": 2,
   "metadata": {},
   "outputs": [],
   "source": [
    "# \"GOOG_sub_trace_10k_4GM_25LM\"\n",
    "BASE_FILE_PATH = Path(\"New_GOOG_sub_trace_50k_1GM_1LM\")\n",
    "SPARROW_CSV_FILE_NAME = \"sparrow_modified_GOOG_50_000.csv\"\n",
    "MEGHA_CSV_FILE_NAME = \"record-2022-01-06-18-02-54_jobs_info.csv\"\n",
    "\n",
    "NETWORK_DELAY = 0.0005"
   ]
  },
  {
   "cell_type": "markdown",
   "metadata": {
    "tags": []
   },
   "source": [
    "# Loading the Sparrow CSV File"
   ]
  },
  {
   "cell_type": "code",
   "execution_count": 3,
   "metadata": {},
   "outputs": [],
   "source": [
    "SPARROW_CSV_FILE_COLUMN_NAME_LIST = [\"Job ID\", \"Task ID\", \"Job Arrival Time\",\n",
    "                                     \"Task Launch Time\", \"Task Duration (Trace)\",\n",
    "                                     \"Task End Time On Node\"]"
   ]
  },
  {
   "cell_type": "code",
   "execution_count": 4,
   "metadata": {},
   "outputs": [
    {
     "data": {
      "text/html": [
       "<div>\n",
       "<style scoped>\n",
       "    .dataframe tbody tr th:only-of-type {\n",
       "        vertical-align: middle;\n",
       "    }\n",
       "\n",
       "    .dataframe tbody tr th {\n",
       "        vertical-align: top;\n",
       "    }\n",
       "\n",
       "    .dataframe thead th {\n",
       "        text-align: right;\n",
       "    }\n",
       "</style>\n",
       "<table border=\"1\" class=\"dataframe\">\n",
       "  <thead>\n",
       "    <tr style=\"text-align: right;\">\n",
       "      <th></th>\n",
       "      <th>Job ID</th>\n",
       "      <th>Task ID</th>\n",
       "      <th>Job Arrival Time</th>\n",
       "      <th>Task Launch Time</th>\n",
       "      <th>Task Duration (Trace)</th>\n",
       "      <th>Task End Time On Node</th>\n",
       "      <th>Task End Time On Node (Dervied)</th>\n",
       "      <th>Allocation Time</th>\n",
       "    </tr>\n",
       "  </thead>\n",
       "  <tbody>\n",
       "    <tr>\n",
       "      <th>0</th>\n",
       "      <td>1</td>\n",
       "      <td>0</td>\n",
       "      <td>281294.20</td>\n",
       "      <td>281294.2015</td>\n",
       "      <td>79782</td>\n",
       "      <td>361076.2015</td>\n",
       "      <td>361076.2015</td>\n",
       "      <td>0.0015</td>\n",
       "    </tr>\n",
       "    <tr>\n",
       "      <th>1</th>\n",
       "      <td>1</td>\n",
       "      <td>1</td>\n",
       "      <td>281294.20</td>\n",
       "      <td>281294.2015</td>\n",
       "      <td>80279</td>\n",
       "      <td>361573.2015</td>\n",
       "      <td>361573.2015</td>\n",
       "      <td>0.0015</td>\n",
       "    </tr>\n",
       "    <tr>\n",
       "      <th>2</th>\n",
       "      <td>1</td>\n",
       "      <td>2</td>\n",
       "      <td>281294.20</td>\n",
       "      <td>281294.2015</td>\n",
       "      <td>78543</td>\n",
       "      <td>359837.2015</td>\n",
       "      <td>359837.2015</td>\n",
       "      <td>0.0015</td>\n",
       "    </tr>\n",
       "    <tr>\n",
       "      <th>3</th>\n",
       "      <td>1</td>\n",
       "      <td>3</td>\n",
       "      <td>281294.20</td>\n",
       "      <td>281294.2015</td>\n",
       "      <td>79460</td>\n",
       "      <td>360754.2015</td>\n",
       "      <td>360754.2015</td>\n",
       "      <td>0.0015</td>\n",
       "    </tr>\n",
       "    <tr>\n",
       "      <th>4</th>\n",
       "      <td>1</td>\n",
       "      <td>4</td>\n",
       "      <td>281294.20</td>\n",
       "      <td>281294.2015</td>\n",
       "      <td>84355</td>\n",
       "      <td>365649.2015</td>\n",
       "      <td>365649.2015</td>\n",
       "      <td>0.0015</td>\n",
       "    </tr>\n",
       "    <tr>\n",
       "      <th>...</th>\n",
       "      <td>...</td>\n",
       "      <td>...</td>\n",
       "      <td>...</td>\n",
       "      <td>...</td>\n",
       "      <td>...</td>\n",
       "      <td>...</td>\n",
       "      <td>...</td>\n",
       "      <td>...</td>\n",
       "    </tr>\n",
       "    <tr>\n",
       "      <th>312553</th>\n",
       "      <td>5654</td>\n",
       "      <td>0</td>\n",
       "      <td>298605.86</td>\n",
       "      <td>311972.6045</td>\n",
       "      <td>67</td>\n",
       "      <td>312039.6045</td>\n",
       "      <td>312039.6045</td>\n",
       "      <td>13366.7445</td>\n",
       "    </tr>\n",
       "    <tr>\n",
       "      <th>312554</th>\n",
       "      <td>5356</td>\n",
       "      <td>0</td>\n",
       "      <td>298509.40</td>\n",
       "      <td>312296.6115</td>\n",
       "      <td>112</td>\n",
       "      <td>312408.6115</td>\n",
       "      <td>312408.6115</td>\n",
       "      <td>13787.2115</td>\n",
       "    </tr>\n",
       "    <tr>\n",
       "      <th>312555</th>\n",
       "      <td>6873</td>\n",
       "      <td>0</td>\n",
       "      <td>298984.06</td>\n",
       "      <td>314737.0105</td>\n",
       "      <td>513</td>\n",
       "      <td>315250.0105</td>\n",
       "      <td>315250.0105</td>\n",
       "      <td>15752.9505</td>\n",
       "    </tr>\n",
       "    <tr>\n",
       "      <th>312556</th>\n",
       "      <td>2502</td>\n",
       "      <td>0</td>\n",
       "      <td>296652.65</td>\n",
       "      <td>341307.2045</td>\n",
       "      <td>297</td>\n",
       "      <td>341604.2045</td>\n",
       "      <td>341604.2045</td>\n",
       "      <td>44654.5545</td>\n",
       "    </tr>\n",
       "    <tr>\n",
       "      <th>312557</th>\n",
       "      <td>7309</td>\n",
       "      <td>0</td>\n",
       "      <td>299129.04</td>\n",
       "      <td>385157.0385</td>\n",
       "      <td>172</td>\n",
       "      <td>385329.0385</td>\n",
       "      <td>385329.0385</td>\n",
       "      <td>86027.9985</td>\n",
       "    </tr>\n",
       "  </tbody>\n",
       "</table>\n",
       "<p>312558 rows × 8 columns</p>\n",
       "</div>"
      ],
      "text/plain": [
       "        Job ID  Task ID  Job Arrival Time  Task Launch Time  \\\n",
       "0            1        0         281294.20       281294.2015   \n",
       "1            1        1         281294.20       281294.2015   \n",
       "2            1        2         281294.20       281294.2015   \n",
       "3            1        3         281294.20       281294.2015   \n",
       "4            1        4         281294.20       281294.2015   \n",
       "...        ...      ...               ...               ...   \n",
       "312553    5654        0         298605.86       311972.6045   \n",
       "312554    5356        0         298509.40       312296.6115   \n",
       "312555    6873        0         298984.06       314737.0105   \n",
       "312556    2502        0         296652.65       341307.2045   \n",
       "312557    7309        0         299129.04       385157.0385   \n",
       "\n",
       "        Task Duration (Trace)  Task End Time On Node  \\\n",
       "0                       79782            361076.2015   \n",
       "1                       80279            361573.2015   \n",
       "2                       78543            359837.2015   \n",
       "3                       79460            360754.2015   \n",
       "4                       84355            365649.2015   \n",
       "...                       ...                    ...   \n",
       "312553                     67            312039.6045   \n",
       "312554                    112            312408.6115   \n",
       "312555                    513            315250.0105   \n",
       "312556                    297            341604.2045   \n",
       "312557                    172            385329.0385   \n",
       "\n",
       "        Task End Time On Node (Dervied)  Allocation Time  \n",
       "0                           361076.2015           0.0015  \n",
       "1                           361573.2015           0.0015  \n",
       "2                           359837.2015           0.0015  \n",
       "3                           360754.2015           0.0015  \n",
       "4                           365649.2015           0.0015  \n",
       "...                                 ...              ...  \n",
       "312553                      312039.6045       13366.7445  \n",
       "312554                      312408.6115       13787.2115  \n",
       "312555                      315250.0105       15752.9505  \n",
       "312556                      341604.2045       44654.5545  \n",
       "312557                      385329.0385       86027.9985  \n",
       "\n",
       "[312558 rows x 8 columns]"
      ]
     },
     "execution_count": 4,
     "metadata": {},
     "output_type": "execute_result"
    }
   ],
   "source": [
    "SPARROW_CSV_FILE_PATH = BASE_FILE_PATH / Path(SPARROW_CSV_FILE_NAME)\n",
    "\n",
    "sparrow_df = pd.read_csv(SPARROW_CSV_FILE_PATH,\n",
    "                         names=SPARROW_CSV_FILE_COLUMN_NAME_LIST\n",
    "                        )\n",
    "sparrow_df[\"Task End Time On Node (Dervied)\"] = sparrow_df[\"Task Launch Time\"] + sparrow_df[\"Task Duration (Trace)\"]\n",
    "\n",
    "sparrow_df[\"Allocation Time\"] = sparrow_df[\"Task Launch Time\"] - sparrow_df[\"Job Arrival Time\"]\n",
    "\n",
    "sparrow_df"
   ]
  },
  {
   "cell_type": "code",
   "execution_count": 5,
   "metadata": {},
   "outputs": [],
   "source": [
    "# assert sparrow_df['Task End Time On Node'].equals(sparrow_df['Task End Time On Node (Dervied)'])"
   ]
  },
  {
   "cell_type": "code",
   "execution_count": 6,
   "metadata": {
    "scrolled": true
   },
   "outputs": [
    {
     "data": {
      "text/plain": [
       "Job ID                               int64\n",
       "Task ID                              int64\n",
       "Job Arrival Time                   float64\n",
       "Task Launch Time                   float64\n",
       "Task Duration (Trace)                int64\n",
       "Task End Time On Node              float64\n",
       "Task End Time On Node (Dervied)    float64\n",
       "Allocation Time                    float64\n",
       "dtype: object"
      ]
     },
     "execution_count": 6,
     "metadata": {},
     "output_type": "execute_result"
    }
   ],
   "source": [
    "sparrow_df.dtypes"
   ]
  },
  {
   "cell_type": "markdown",
   "metadata": {},
   "source": [
    "# Loading the Megha CSV File"
   ]
  },
  {
   "cell_type": "code",
   "execution_count": 7,
   "metadata": {},
   "outputs": [
    {
     "data": {
      "text/html": [
       "<div>\n",
       "<style scoped>\n",
       "    .dataframe tbody tr th:only-of-type {\n",
       "        vertical-align: middle;\n",
       "    }\n",
       "\n",
       "    .dataframe tbody tr th {\n",
       "        vertical-align: top;\n",
       "    }\n",
       "\n",
       "    .dataframe thead th {\n",
       "        text-align: right;\n",
       "    }\n",
       "</style>\n",
       "<table border=\"1\" class=\"dataframe\">\n",
       "  <thead>\n",
       "    <tr style=\"text-align: right;\">\n",
       "      <th></th>\n",
       "      <th>Job ID</th>\n",
       "      <th>Task ID</th>\n",
       "      <th>Job Arrival Time</th>\n",
       "      <th>Task Launch Time</th>\n",
       "      <th>Task Duration (Trace)</th>\n",
       "      <th>Task Duration (GM)</th>\n",
       "      <th>Task Queuing Delay</th>\n",
       "      <th>Task End Time On Node</th>\n",
       "      <th>Allocation Time</th>\n",
       "    </tr>\n",
       "  </thead>\n",
       "  <tbody>\n",
       "    <tr>\n",
       "      <th>0</th>\n",
       "      <td>1</td>\n",
       "      <td>1</td>\n",
       "      <td>281294.20</td>\n",
       "      <td>281294.201</td>\n",
       "      <td>79782</td>\n",
       "      <td>79782.0015</td>\n",
       "      <td>0.001</td>\n",
       "      <td>361076.2015</td>\n",
       "      <td>0.0015</td>\n",
       "    </tr>\n",
       "    <tr>\n",
       "      <th>1</th>\n",
       "      <td>1</td>\n",
       "      <td>2</td>\n",
       "      <td>281294.20</td>\n",
       "      <td>281294.201</td>\n",
       "      <td>80279</td>\n",
       "      <td>80279.0015</td>\n",
       "      <td>0.001</td>\n",
       "      <td>361573.2015</td>\n",
       "      <td>0.0015</td>\n",
       "    </tr>\n",
       "    <tr>\n",
       "      <th>2</th>\n",
       "      <td>1</td>\n",
       "      <td>3</td>\n",
       "      <td>281294.20</td>\n",
       "      <td>281294.201</td>\n",
       "      <td>78543</td>\n",
       "      <td>78543.0015</td>\n",
       "      <td>0.001</td>\n",
       "      <td>359837.2015</td>\n",
       "      <td>0.0015</td>\n",
       "    </tr>\n",
       "    <tr>\n",
       "      <th>3</th>\n",
       "      <td>1</td>\n",
       "      <td>4</td>\n",
       "      <td>281294.20</td>\n",
       "      <td>281294.201</td>\n",
       "      <td>79460</td>\n",
       "      <td>79460.0015</td>\n",
       "      <td>0.001</td>\n",
       "      <td>360754.2015</td>\n",
       "      <td>0.0015</td>\n",
       "    </tr>\n",
       "    <tr>\n",
       "      <th>4</th>\n",
       "      <td>1</td>\n",
       "      <td>5</td>\n",
       "      <td>281294.20</td>\n",
       "      <td>281294.201</td>\n",
       "      <td>84355</td>\n",
       "      <td>84355.0015</td>\n",
       "      <td>0.001</td>\n",
       "      <td>365649.2015</td>\n",
       "      <td>0.0015</td>\n",
       "    </tr>\n",
       "    <tr>\n",
       "      <th>...</th>\n",
       "      <td>...</td>\n",
       "      <td>...</td>\n",
       "      <td>...</td>\n",
       "      <td>...</td>\n",
       "      <td>...</td>\n",
       "      <td>...</td>\n",
       "      <td>...</td>\n",
       "      <td>...</td>\n",
       "      <td>...</td>\n",
       "    </tr>\n",
       "    <tr>\n",
       "      <th>312553</th>\n",
       "      <td>9997</td>\n",
       "      <td>17</td>\n",
       "      <td>299997.93</td>\n",
       "      <td>299997.931</td>\n",
       "      <td>53</td>\n",
       "      <td>53.0015</td>\n",
       "      <td>0.001</td>\n",
       "      <td>300050.9315</td>\n",
       "      <td>0.0015</td>\n",
       "    </tr>\n",
       "    <tr>\n",
       "      <th>312554</th>\n",
       "      <td>9997</td>\n",
       "      <td>18</td>\n",
       "      <td>299997.93</td>\n",
       "      <td>299997.931</td>\n",
       "      <td>43</td>\n",
       "      <td>43.0015</td>\n",
       "      <td>0.001</td>\n",
       "      <td>300040.9315</td>\n",
       "      <td>0.0015</td>\n",
       "    </tr>\n",
       "    <tr>\n",
       "      <th>312555</th>\n",
       "      <td>9998</td>\n",
       "      <td>1</td>\n",
       "      <td>299997.94</td>\n",
       "      <td>299997.941</td>\n",
       "      <td>186</td>\n",
       "      <td>186.0015</td>\n",
       "      <td>0.001</td>\n",
       "      <td>300183.9415</td>\n",
       "      <td>0.0015</td>\n",
       "    </tr>\n",
       "    <tr>\n",
       "      <th>312556</th>\n",
       "      <td>9999</td>\n",
       "      <td>1</td>\n",
       "      <td>299997.95</td>\n",
       "      <td>299997.951</td>\n",
       "      <td>187</td>\n",
       "      <td>187.0015</td>\n",
       "      <td>0.001</td>\n",
       "      <td>300184.9515</td>\n",
       "      <td>0.0015</td>\n",
       "    </tr>\n",
       "    <tr>\n",
       "      <th>312557</th>\n",
       "      <td>10000</td>\n",
       "      <td>1</td>\n",
       "      <td>299999.40</td>\n",
       "      <td>299999.401</td>\n",
       "      <td>14</td>\n",
       "      <td>14.0015</td>\n",
       "      <td>0.001</td>\n",
       "      <td>300013.4015</td>\n",
       "      <td>0.0015</td>\n",
       "    </tr>\n",
       "  </tbody>\n",
       "</table>\n",
       "<p>312558 rows × 9 columns</p>\n",
       "</div>"
      ],
      "text/plain": [
       "        Job ID  Task ID  Job Arrival Time  Task Launch Time  \\\n",
       "0            1        1         281294.20        281294.201   \n",
       "1            1        2         281294.20        281294.201   \n",
       "2            1        3         281294.20        281294.201   \n",
       "3            1        4         281294.20        281294.201   \n",
       "4            1        5         281294.20        281294.201   \n",
       "...        ...      ...               ...               ...   \n",
       "312553    9997       17         299997.93        299997.931   \n",
       "312554    9997       18         299997.93        299997.931   \n",
       "312555    9998        1         299997.94        299997.941   \n",
       "312556    9999        1         299997.95        299997.951   \n",
       "312557   10000        1         299999.40        299999.401   \n",
       "\n",
       "        Task Duration (Trace)  Task Duration (GM)  Task Queuing Delay  \\\n",
       "0                       79782          79782.0015               0.001   \n",
       "1                       80279          80279.0015               0.001   \n",
       "2                       78543          78543.0015               0.001   \n",
       "3                       79460          79460.0015               0.001   \n",
       "4                       84355          84355.0015               0.001   \n",
       "...                       ...                 ...                 ...   \n",
       "312553                     53             53.0015               0.001   \n",
       "312554                     43             43.0015               0.001   \n",
       "312555                    186            186.0015               0.001   \n",
       "312556                    187            187.0015               0.001   \n",
       "312557                     14             14.0015               0.001   \n",
       "\n",
       "        Task End Time On Node  Allocation Time  \n",
       "0                 361076.2015           0.0015  \n",
       "1                 361573.2015           0.0015  \n",
       "2                 359837.2015           0.0015  \n",
       "3                 360754.2015           0.0015  \n",
       "4                 365649.2015           0.0015  \n",
       "...                       ...              ...  \n",
       "312553            300050.9315           0.0015  \n",
       "312554            300040.9315           0.0015  \n",
       "312555            300183.9415           0.0015  \n",
       "312556            300184.9515           0.0015  \n",
       "312557            300013.4015           0.0015  \n",
       "\n",
       "[312558 rows x 9 columns]"
      ]
     },
     "execution_count": 7,
     "metadata": {},
     "output_type": "execute_result"
    }
   ],
   "source": [
    "MEGHA_CSV_FILE_PATH = BASE_FILE_PATH / Path(MEGHA_CSV_FILE_NAME)\n",
    "megha_df = pd.read_csv(Path(MEGHA_CSV_FILE_PATH))\n",
    "\n",
    "megha_df[\"Allocation Time\"] = megha_df[\"Task Launch Time\"] - megha_df[\"Job Arrival Time\"] + NETWORK_DELAY\n",
    "\n",
    "megha_df"
   ]
  },
  {
   "cell_type": "code",
   "execution_count": 8,
   "metadata": {},
   "outputs": [
    {
     "data": {
      "text/plain": [
       "Job ID                     int64\n",
       "Task ID                    int64\n",
       "Job Arrival Time         float64\n",
       "Task Launch Time         float64\n",
       "Task Duration (Trace)      int64\n",
       "Task Duration (GM)       float64\n",
       "Task Queuing Delay       float64\n",
       "Task End Time On Node    float64\n",
       "Allocation Time          float64\n",
       "dtype: object"
      ]
     },
     "execution_count": 8,
     "metadata": {},
     "output_type": "execute_result"
    }
   ],
   "source": [
    "megha_df.dtypes"
   ]
  },
  {
   "cell_type": "markdown",
   "metadata": {},
   "source": [
    "---"
   ]
  },
  {
   "cell_type": "code",
   "execution_count": 9,
   "metadata": {},
   "outputs": [
    {
     "data": {
      "text/html": [
       "<div>\n",
       "<style scoped>\n",
       "    .dataframe tbody tr th:only-of-type {\n",
       "        vertical-align: middle;\n",
       "    }\n",
       "\n",
       "    .dataframe tbody tr th {\n",
       "        vertical-align: top;\n",
       "    }\n",
       "\n",
       "    .dataframe thead th {\n",
       "        text-align: right;\n",
       "    }\n",
       "</style>\n",
       "<table border=\"1\" class=\"dataframe\">\n",
       "  <thead>\n",
       "    <tr style=\"text-align: right;\">\n",
       "      <th></th>\n",
       "      <th>Megha Task Allocation Time</th>\n",
       "      <th>Sparrow Task Allocation Time</th>\n",
       "    </tr>\n",
       "  </thead>\n",
       "  <tbody>\n",
       "    <tr>\n",
       "      <th>0</th>\n",
       "      <td>0.0015</td>\n",
       "      <td>0.0015</td>\n",
       "    </tr>\n",
       "    <tr>\n",
       "      <th>1</th>\n",
       "      <td>0.0015</td>\n",
       "      <td>0.0015</td>\n",
       "    </tr>\n",
       "    <tr>\n",
       "      <th>2</th>\n",
       "      <td>0.0015</td>\n",
       "      <td>0.0015</td>\n",
       "    </tr>\n",
       "    <tr>\n",
       "      <th>3</th>\n",
       "      <td>0.0015</td>\n",
       "      <td>0.0015</td>\n",
       "    </tr>\n",
       "    <tr>\n",
       "      <th>4</th>\n",
       "      <td>0.0015</td>\n",
       "      <td>0.0015</td>\n",
       "    </tr>\n",
       "    <tr>\n",
       "      <th>...</th>\n",
       "      <td>...</td>\n",
       "      <td>...</td>\n",
       "    </tr>\n",
       "    <tr>\n",
       "      <th>312553</th>\n",
       "      <td>0.0015</td>\n",
       "      <td>13366.7445</td>\n",
       "    </tr>\n",
       "    <tr>\n",
       "      <th>312554</th>\n",
       "      <td>0.0015</td>\n",
       "      <td>13787.2115</td>\n",
       "    </tr>\n",
       "    <tr>\n",
       "      <th>312555</th>\n",
       "      <td>0.0015</td>\n",
       "      <td>15752.9505</td>\n",
       "    </tr>\n",
       "    <tr>\n",
       "      <th>312556</th>\n",
       "      <td>0.0015</td>\n",
       "      <td>44654.5545</td>\n",
       "    </tr>\n",
       "    <tr>\n",
       "      <th>312557</th>\n",
       "      <td>0.0015</td>\n",
       "      <td>86027.9985</td>\n",
       "    </tr>\n",
       "  </tbody>\n",
       "</table>\n",
       "<p>312558 rows × 2 columns</p>\n",
       "</div>"
      ],
      "text/plain": [
       "        Megha Task Allocation Time  Sparrow Task Allocation Time\n",
       "0                           0.0015                        0.0015\n",
       "1                           0.0015                        0.0015\n",
       "2                           0.0015                        0.0015\n",
       "3                           0.0015                        0.0015\n",
       "4                           0.0015                        0.0015\n",
       "...                            ...                           ...\n",
       "312553                      0.0015                    13366.7445\n",
       "312554                      0.0015                    13787.2115\n",
       "312555                      0.0015                    15752.9505\n",
       "312556                      0.0015                    44654.5545\n",
       "312557                      0.0015                    86027.9985\n",
       "\n",
       "[312558 rows x 2 columns]"
      ]
     },
     "execution_count": 9,
     "metadata": {},
     "output_type": "execute_result"
    }
   ],
   "source": [
    "data = [megha_df[\"Allocation Time\"],\n",
    "        sparrow_df[\"Allocation Time\"],\n",
    "       ]\n",
    "\n",
    "headers = [\"Megha Task Allocation Time\", \"Sparrow Task Allocation Time\"]\n",
    "\n",
    "final_df = pd.concat(data, axis=1, keys=headers)\n",
    "\n",
    "final_df"
   ]
  },
  {
   "cell_type": "code",
   "execution_count": 10,
   "metadata": {},
   "outputs": [
    {
     "data": {
      "text/plain": [
       "RangeIndex(start=0, stop=312558, step=1)"
      ]
     },
     "execution_count": 10,
     "metadata": {},
     "output_type": "execute_result"
    }
   ],
   "source": [
    "final_df.index"
   ]
  },
  {
   "cell_type": "code",
   "execution_count": 11,
   "metadata": {},
   "outputs": [
    {
     "name": "stdout",
     "output_type": "stream",
     "text": [
      "Megha Task Allocation Time\n"
     ]
    },
    {
     "data": {
      "text/plain": [
       "[<matplotlib.lines.Line2D at 0x7f8f18af1e80>]"
      ]
     },
     "execution_count": 11,
     "metadata": {},
     "output_type": "execute_result"
    },
    {
     "data": {
      "image/png": "[encoded data removed]",
      "text/plain": [
       "<Figure size 800x600 with 1 Axes>"
      ]
     },
     "metadata": {},
     "output_type": "display_data"
    }
   ],
   "source": [
    "print(\"Megha Task Allocation Time\")\n",
    "\n",
    "fig = plt.figure(figsize=(8, 6), dpi=100)\n",
    "ax = plt.axes()\n",
    "\n",
    "x = final_df.index  # Job ID\n",
    "y = final_df[\"Megha Task Allocation Time\"]\n",
    "\n",
    "ax.plot(x, y)\n",
    "# plt.savefig('Megha_GOOG.pdf')"
   ]
  },
  {
   "cell_type": "code",
   "execution_count": 12,
   "metadata": {},
   "outputs": [
    {
     "name": "stdout",
     "output_type": "stream",
     "text": [
      "Sparrow Task Allocation Time\n"
     ]
    },
    {
     "data": {
      "image/png": "[encoded data removed]",
      "text/plain": [
       "<Figure size 800x600 with 1 Axes>"
      ]
     },
     "metadata": {},
     "output_type": "display_data"
    }
   ],
   "source": [
    "print(\"Sparrow Task Allocation Time\")\n",
    "\n",
    "fig = plt.figure(figsize=(8, 6), dpi=100)\n",
    "ax = plt.axes()\n",
    "\n",
    "x = final_df.index  # Job ID\n",
    "y = final_df[\"Sparrow Task Allocation Time\"]\n",
    "\n",
    "ax.plot(x, y)\n",
    "\n",
    "plt.show()"
   ]
  },
  {
   "cell_type": "code",
   "execution_count": 13,
   "metadata": {},
   "outputs": [],
   "source": [
    "final_df.to_csv(BASE_FILE_PATH / Path(\"task_allocation_times.csv\"))"
   ]
  },
  {
   "cell_type": "code",
   "execution_count": 14,
   "metadata": {},
   "outputs": [
    {
     "data": {
      "text/plain": [
       "count    312558.000000\n",
       "mean          1.687136\n",
       "std          12.358069\n",
       "min           0.001500\n",
       "25%           0.001500\n",
       "50%           0.001500\n",
       "75%           0.001500\n",
       "max         132.453500\n",
       "Name: Megha Task Allocation Time, dtype: float64"
      ]
     },
     "execution_count": 14,
     "metadata": {},
     "output_type": "execute_result"
    }
   ],
   "source": [
    "final_df[\"Megha Task Allocation Time\"].describe()"
   ]
  },
  {
   "cell_type": "code",
   "execution_count": 15,
   "metadata": {},
   "outputs": [
    {
     "data": {
      "text/plain": [
       "count    312558.000000\n",
       "mean        166.285840\n",
       "std         355.339798\n",
       "min           0.001500\n",
       "25%           0.001500\n",
       "50%           0.001500\n",
       "75%         280.637500\n",
       "max       86027.998500\n",
       "Name: Sparrow Task Allocation Time, dtype: float64"
      ]
     },
     "execution_count": 15,
     "metadata": {},
     "output_type": "execute_result"
    }
   ],
   "source": [
    "final_df[\"Sparrow Task Allocation Time\"].describe()"
   ]
  },
  {
   "cell_type": "markdown",
   "metadata": {},
   "source": [
    "---"
   ]
  }
 ],
 "metadata": {
  "kernelspec": {
   "display_name": "Python 3",
   "language": "python",
   "name": "python3"
  },
  "language_info": {
   "codemirror_mode": {
    "name": "ipython",
    "version": 3
   },
   "file_extension": ".py",
   "mimetype": "text/x-python",
   "name": "python",
   "nbconvert_exporter": "python",
   "pygments_lexer": "ipython3",
   "version": "3.9.7"
  }
 },
 "nbformat": 4,
 "nbformat_minor": 4
}
