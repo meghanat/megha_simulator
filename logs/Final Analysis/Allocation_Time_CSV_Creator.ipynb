{
 "cells": [
  {
   "cell_type": "markdown",
   "metadata": {},
   "source": [
    "# Notebook to Create the `Allocation Time` CSV File"
   ]
  },
  {
   "cell_type": "code",
   "execution_count": 1,
   "metadata": {},
   "outputs": [],
   "source": [
    "import pandas as pd\n",
    "from pathlib import Path\n",
    "\n",
    "%matplotlib inline\n",
    "import matplotlib.pyplot as plt\n",
    "plt.style.use('seaborn-whitegrid')"
   ]
  },
  {
   "cell_type": "code",
   "execution_count": 2,
   "metadata": {},
   "outputs": [],
   "source": [
    "BASE_FILE_PATH = Path(\"GOOG_sub_trace_10k_4GM_25LM\")\n",
    "NETWORK_DELAY = 0.0005"
   ]
  },
  {
   "cell_type": "markdown",
   "metadata": {
    "tags": []
   },
   "source": [
    "# Loading the Sparrow CSV File"
   ]
  },
  {
   "cell_type": "code",
   "execution_count": 3,
   "metadata": {},
   "outputs": [],
   "source": [
    "SPARROW_CSV_FILE_NAME = \"sparrow_GOOG_subtrace_10_000.csv\"\n",
    "SPARROW_CSV_FILE_COLUMN_NAME_LIST = [\"Job ID\", \"Task ID\", \"Job Arrival Time\",\n",
    "                                     \"Task Launch Time\", \"Task Duration (Trace)\",\n",
    "                                     \"Task End Time On Node\"]"
   ]
  },
  {
   "cell_type": "code",
   "execution_count": 4,
   "metadata": {},
   "outputs": [
    {
     "data": {
      "text/html": [
       "<div>\n",
       "<style scoped>\n",
       "    .dataframe tbody tr th:only-of-type {\n",
       "        vertical-align: middle;\n",
       "    }\n",
       "\n",
       "    .dataframe tbody tr th {\n",
       "        vertical-align: top;\n",
       "    }\n",
       "\n",
       "    .dataframe thead th {\n",
       "        text-align: right;\n",
       "    }\n",
       "</style>\n",
       "<table border=\"1\" class=\"dataframe\">\n",
       "  <thead>\n",
       "    <tr style=\"text-align: right;\">\n",
       "      <th></th>\n",
       "      <th>Job ID</th>\n",
       "      <th>Task ID</th>\n",
       "      <th>Job Arrival Time</th>\n",
       "      <th>Task Launch Time</th>\n",
       "      <th>Task Duration (Trace)</th>\n",
       "      <th>Task End Time On Node</th>\n",
       "      <th>Task End Time On Node (Dervied)</th>\n",
       "      <th>Allocation Time</th>\n",
       "    </tr>\n",
       "  </thead>\n",
       "  <tbody>\n",
       "    <tr>\n",
       "      <th>0</th>\n",
       "      <td>1</td>\n",
       "      <td>0</td>\n",
       "      <td>1406471.00</td>\n",
       "      <td>1.406471e+06</td>\n",
       "      <td>79782</td>\n",
       "      <td>1.486253e+06</td>\n",
       "      <td>1.486253e+06</td>\n",
       "      <td>0.0015</td>\n",
       "    </tr>\n",
       "    <tr>\n",
       "      <th>1</th>\n",
       "      <td>1</td>\n",
       "      <td>1</td>\n",
       "      <td>1406471.00</td>\n",
       "      <td>1.406471e+06</td>\n",
       "      <td>80279</td>\n",
       "      <td>1.486750e+06</td>\n",
       "      <td>1.486750e+06</td>\n",
       "      <td>0.0015</td>\n",
       "    </tr>\n",
       "    <tr>\n",
       "      <th>2</th>\n",
       "      <td>1</td>\n",
       "      <td>2</td>\n",
       "      <td>1406471.00</td>\n",
       "      <td>1.406471e+06</td>\n",
       "      <td>78543</td>\n",
       "      <td>1.485014e+06</td>\n",
       "      <td>1.485014e+06</td>\n",
       "      <td>0.0015</td>\n",
       "    </tr>\n",
       "    <tr>\n",
       "      <th>3</th>\n",
       "      <td>1</td>\n",
       "      <td>3</td>\n",
       "      <td>1406471.00</td>\n",
       "      <td>1.406471e+06</td>\n",
       "      <td>79460</td>\n",
       "      <td>1.485931e+06</td>\n",
       "      <td>1.485931e+06</td>\n",
       "      <td>0.0015</td>\n",
       "    </tr>\n",
       "    <tr>\n",
       "      <th>4</th>\n",
       "      <td>1</td>\n",
       "      <td>4</td>\n",
       "      <td>1406471.00</td>\n",
       "      <td>1.406471e+06</td>\n",
       "      <td>84355</td>\n",
       "      <td>1.490826e+06</td>\n",
       "      <td>1.490826e+06</td>\n",
       "      <td>0.0015</td>\n",
       "    </tr>\n",
       "    <tr>\n",
       "      <th>...</th>\n",
       "      <td>...</td>\n",
       "      <td>...</td>\n",
       "      <td>...</td>\n",
       "      <td>...</td>\n",
       "      <td>...</td>\n",
       "      <td>...</td>\n",
       "      <td>...</td>\n",
       "      <td>...</td>\n",
       "    </tr>\n",
       "    <tr>\n",
       "      <th>312553</th>\n",
       "      <td>2250</td>\n",
       "      <td>0</td>\n",
       "      <td>1481962.05</td>\n",
       "      <td>1.593537e+06</td>\n",
       "      <td>1437</td>\n",
       "      <td>1.594974e+06</td>\n",
       "      <td>1.594974e+06</td>\n",
       "      <td>111574.9725</td>\n",
       "    </tr>\n",
       "    <tr>\n",
       "      <th>312554</th>\n",
       "      <td>9422</td>\n",
       "      <td>0</td>\n",
       "      <td>1499027.04</td>\n",
       "      <td>1.598976e+06</td>\n",
       "      <td>122</td>\n",
       "      <td>1.599098e+06</td>\n",
       "      <td>1.599098e+06</td>\n",
       "      <td>99949.0095</td>\n",
       "    </tr>\n",
       "    <tr>\n",
       "      <th>312555</th>\n",
       "      <td>5028</td>\n",
       "      <td>0</td>\n",
       "      <td>1492057.09</td>\n",
       "      <td>1.599659e+06</td>\n",
       "      <td>62</td>\n",
       "      <td>1.599721e+06</td>\n",
       "      <td>1.599721e+06</td>\n",
       "      <td>107601.9865</td>\n",
       "    </tr>\n",
       "    <tr>\n",
       "      <th>312556</th>\n",
       "      <td>6827</td>\n",
       "      <td>0</td>\n",
       "      <td>1494865.04</td>\n",
       "      <td>1.602533e+06</td>\n",
       "      <td>161</td>\n",
       "      <td>1.602694e+06</td>\n",
       "      <td>1.602694e+06</td>\n",
       "      <td>107668.0075</td>\n",
       "    </tr>\n",
       "    <tr>\n",
       "      <th>312557</th>\n",
       "      <td>9955</td>\n",
       "      <td>0</td>\n",
       "      <td>1499938.05</td>\n",
       "      <td>1.627850e+06</td>\n",
       "      <td>71</td>\n",
       "      <td>1.627921e+06</td>\n",
       "      <td>1.627921e+06</td>\n",
       "      <td>127912.0235</td>\n",
       "    </tr>\n",
       "  </tbody>\n",
       "</table>\n",
       "<p>312558 rows × 8 columns</p>\n",
       "</div>"
      ],
      "text/plain": [
       "        Job ID  Task ID  Job Arrival Time  Task Launch Time  \\\n",
       "0            1        0        1406471.00      1.406471e+06   \n",
       "1            1        1        1406471.00      1.406471e+06   \n",
       "2            1        2        1406471.00      1.406471e+06   \n",
       "3            1        3        1406471.00      1.406471e+06   \n",
       "4            1        4        1406471.00      1.406471e+06   \n",
       "...        ...      ...               ...               ...   \n",
       "312553    2250        0        1481962.05      1.593537e+06   \n",
       "312554    9422        0        1499027.04      1.598976e+06   \n",
       "312555    5028        0        1492057.09      1.599659e+06   \n",
       "312556    6827        0        1494865.04      1.602533e+06   \n",
       "312557    9955        0        1499938.05      1.627850e+06   \n",
       "\n",
       "        Task Duration (Trace)  Task End Time On Node  \\\n",
       "0                       79782           1.486253e+06   \n",
       "1                       80279           1.486750e+06   \n",
       "2                       78543           1.485014e+06   \n",
       "3                       79460           1.485931e+06   \n",
       "4                       84355           1.490826e+06   \n",
       "...                       ...                    ...   \n",
       "312553                   1437           1.594974e+06   \n",
       "312554                    122           1.599098e+06   \n",
       "312555                     62           1.599721e+06   \n",
       "312556                    161           1.602694e+06   \n",
       "312557                     71           1.627921e+06   \n",
       "\n",
       "        Task End Time On Node (Dervied)  Allocation Time  \n",
       "0                          1.486253e+06           0.0015  \n",
       "1                          1.486750e+06           0.0015  \n",
       "2                          1.485014e+06           0.0015  \n",
       "3                          1.485931e+06           0.0015  \n",
       "4                          1.490826e+06           0.0015  \n",
       "...                                 ...              ...  \n",
       "312553                     1.594974e+06      111574.9725  \n",
       "312554                     1.599098e+06       99949.0095  \n",
       "312555                     1.599721e+06      107601.9865  \n",
       "312556                     1.602694e+06      107668.0075  \n",
       "312557                     1.627921e+06      127912.0235  \n",
       "\n",
       "[312558 rows x 8 columns]"
      ]
     },
     "execution_count": 4,
     "metadata": {},
     "output_type": "execute_result"
    }
   ],
   "source": [
    "SPARROW_CSV_FILE_PATH = BASE_FILE_PATH / Path(SPARROW_CSV_FILE_NAME)\n",
    "\n",
    "sparrow_df = pd.read_csv(SPARROW_CSV_FILE_PATH,\n",
    "                         names=SPARROW_CSV_FILE_COLUMN_NAME_LIST\n",
    "                        )\n",
    "sparrow_df[\"Task End Time On Node (Dervied)\"] = sparrow_df[\"Task Launch Time\"] + sparrow_df[\"Task Duration (Trace)\"]\n",
    "\n",
    "sparrow_df[\"Allocation Time\"] = sparrow_df[\"Task Launch Time\"] - sparrow_df[\"Job Arrival Time\"]\n",
    "\n",
    "sparrow_df"
   ]
  },
  {
   "cell_type": "code",
   "execution_count": 5,
   "metadata": {},
   "outputs": [],
   "source": [
    "# assert sparrow_df['Task End Time On Node'].equals(sparrow_df['Task End Time On Node (Dervied)'])"
   ]
  },
  {
   "cell_type": "code",
   "execution_count": 6,
   "metadata": {
    "scrolled": true
   },
   "outputs": [
    {
     "data": {
      "text/plain": [
       "Job ID                               int64\n",
       "Task ID                              int64\n",
       "Job Arrival Time                   float64\n",
       "Task Launch Time                   float64\n",
       "Task Duration (Trace)                int64\n",
       "Task End Time On Node              float64\n",
       "Task End Time On Node (Dervied)    float64\n",
       "Allocation Time                    float64\n",
       "dtype: object"
      ]
     },
     "execution_count": 6,
     "metadata": {},
     "output_type": "execute_result"
    }
   ],
   "source": [
    "sparrow_df.dtypes"
   ]
  },
  {
   "cell_type": "markdown",
   "metadata": {},
   "source": [
    "# Loading the Megha CSV File"
   ]
  },
  {
   "cell_type": "code",
   "execution_count": 7,
   "metadata": {},
   "outputs": [],
   "source": [
    "MEGHA_CSV_FILE_NAME = \"record-2021-12-30-21-40-25_jobs_info.csv\""
   ]
  },
  {
   "cell_type": "code",
   "execution_count": 8,
   "metadata": {},
   "outputs": [
    {
     "data": {
      "text/html": [
       "<div>\n",
       "<style scoped>\n",
       "    .dataframe tbody tr th:only-of-type {\n",
       "        vertical-align: middle;\n",
       "    }\n",
       "\n",
       "    .dataframe tbody tr th {\n",
       "        vertical-align: top;\n",
       "    }\n",
       "\n",
       "    .dataframe thead th {\n",
       "        text-align: right;\n",
       "    }\n",
       "</style>\n",
       "<table border=\"1\" class=\"dataframe\">\n",
       "  <thead>\n",
       "    <tr style=\"text-align: right;\">\n",
       "      <th></th>\n",
       "      <th>Job ID</th>\n",
       "      <th>Task ID</th>\n",
       "      <th>Job Arrival Time</th>\n",
       "      <th>Task Launch Time</th>\n",
       "      <th>Task Duration (Trace)</th>\n",
       "      <th>Task Duration (GM)</th>\n",
       "      <th>Task Queuing Delay</th>\n",
       "      <th>Task End Time On Node</th>\n",
       "      <th>Allocation Time</th>\n",
       "    </tr>\n",
       "  </thead>\n",
       "  <tbody>\n",
       "    <tr>\n",
       "      <th>0</th>\n",
       "      <td>1</td>\n",
       "      <td>1</td>\n",
       "      <td>1406471.00</td>\n",
       "      <td>1406471.001</td>\n",
       "      <td>79782</td>\n",
       "      <td>79782.0015</td>\n",
       "      <td>0.001</td>\n",
       "      <td>1.486253e+06</td>\n",
       "      <td>0.0015</td>\n",
       "    </tr>\n",
       "    <tr>\n",
       "      <th>1</th>\n",
       "      <td>1</td>\n",
       "      <td>2</td>\n",
       "      <td>1406471.00</td>\n",
       "      <td>1406471.001</td>\n",
       "      <td>80279</td>\n",
       "      <td>80279.0015</td>\n",
       "      <td>0.001</td>\n",
       "      <td>1.486750e+06</td>\n",
       "      <td>0.0015</td>\n",
       "    </tr>\n",
       "    <tr>\n",
       "      <th>2</th>\n",
       "      <td>1</td>\n",
       "      <td>3</td>\n",
       "      <td>1406471.00</td>\n",
       "      <td>1406471.001</td>\n",
       "      <td>78543</td>\n",
       "      <td>78543.0015</td>\n",
       "      <td>0.001</td>\n",
       "      <td>1.485014e+06</td>\n",
       "      <td>0.0015</td>\n",
       "    </tr>\n",
       "    <tr>\n",
       "      <th>3</th>\n",
       "      <td>1</td>\n",
       "      <td>4</td>\n",
       "      <td>1406471.00</td>\n",
       "      <td>1406471.001</td>\n",
       "      <td>79460</td>\n",
       "      <td>79460.0015</td>\n",
       "      <td>0.001</td>\n",
       "      <td>1.485931e+06</td>\n",
       "      <td>0.0015</td>\n",
       "    </tr>\n",
       "    <tr>\n",
       "      <th>4</th>\n",
       "      <td>1</td>\n",
       "      <td>5</td>\n",
       "      <td>1406471.00</td>\n",
       "      <td>1406471.001</td>\n",
       "      <td>84355</td>\n",
       "      <td>84355.0015</td>\n",
       "      <td>0.001</td>\n",
       "      <td>1.490826e+06</td>\n",
       "      <td>0.0015</td>\n",
       "    </tr>\n",
       "    <tr>\n",
       "      <th>...</th>\n",
       "      <td>...</td>\n",
       "      <td>...</td>\n",
       "      <td>...</td>\n",
       "      <td>...</td>\n",
       "      <td>...</td>\n",
       "      <td>...</td>\n",
       "      <td>...</td>\n",
       "      <td>...</td>\n",
       "      <td>...</td>\n",
       "    </tr>\n",
       "    <tr>\n",
       "      <th>312553</th>\n",
       "      <td>9997</td>\n",
       "      <td>17</td>\n",
       "      <td>1499989.13</td>\n",
       "      <td>1499992.101</td>\n",
       "      <td>53</td>\n",
       "      <td>55.9715</td>\n",
       "      <td>2.971</td>\n",
       "      <td>1.500045e+06</td>\n",
       "      <td>2.9715</td>\n",
       "    </tr>\n",
       "    <tr>\n",
       "      <th>312554</th>\n",
       "      <td>9997</td>\n",
       "      <td>18</td>\n",
       "      <td>1499989.13</td>\n",
       "      <td>1499992.089</td>\n",
       "      <td>43</td>\n",
       "      <td>45.9595</td>\n",
       "      <td>2.959</td>\n",
       "      <td>1.500035e+06</td>\n",
       "      <td>2.9595</td>\n",
       "    </tr>\n",
       "    <tr>\n",
       "      <th>312555</th>\n",
       "      <td>9998</td>\n",
       "      <td>1</td>\n",
       "      <td>1499989.14</td>\n",
       "      <td>1500001.081</td>\n",
       "      <td>186</td>\n",
       "      <td>197.9415</td>\n",
       "      <td>11.941</td>\n",
       "      <td>1.500187e+06</td>\n",
       "      <td>11.9415</td>\n",
       "    </tr>\n",
       "    <tr>\n",
       "      <th>312556</th>\n",
       "      <td>9999</td>\n",
       "      <td>1</td>\n",
       "      <td>1499989.15</td>\n",
       "      <td>1500001.093</td>\n",
       "      <td>187</td>\n",
       "      <td>198.9435</td>\n",
       "      <td>11.943</td>\n",
       "      <td>1.500188e+06</td>\n",
       "      <td>11.9435</td>\n",
       "    </tr>\n",
       "    <tr>\n",
       "      <th>312557</th>\n",
       "      <td>10000</td>\n",
       "      <td>1</td>\n",
       "      <td>1499997.00</td>\n",
       "      <td>1500001.109</td>\n",
       "      <td>14</td>\n",
       "      <td>18.1095</td>\n",
       "      <td>4.109</td>\n",
       "      <td>1.500015e+06</td>\n",
       "      <td>4.1095</td>\n",
       "    </tr>\n",
       "  </tbody>\n",
       "</table>\n",
       "<p>312558 rows × 9 columns</p>\n",
       "</div>"
      ],
      "text/plain": [
       "        Job ID  Task ID  Job Arrival Time  Task Launch Time  \\\n",
       "0            1        1        1406471.00       1406471.001   \n",
       "1            1        2        1406471.00       1406471.001   \n",
       "2            1        3        1406471.00       1406471.001   \n",
       "3            1        4        1406471.00       1406471.001   \n",
       "4            1        5        1406471.00       1406471.001   \n",
       "...        ...      ...               ...               ...   \n",
       "312553    9997       17        1499989.13       1499992.101   \n",
       "312554    9997       18        1499989.13       1499992.089   \n",
       "312555    9998        1        1499989.14       1500001.081   \n",
       "312556    9999        1        1499989.15       1500001.093   \n",
       "312557   10000        1        1499997.00       1500001.109   \n",
       "\n",
       "        Task Duration (Trace)  Task Duration (GM)  Task Queuing Delay  \\\n",
       "0                       79782          79782.0015               0.001   \n",
       "1                       80279          80279.0015               0.001   \n",
       "2                       78543          78543.0015               0.001   \n",
       "3                       79460          79460.0015               0.001   \n",
       "4                       84355          84355.0015               0.001   \n",
       "...                       ...                 ...                 ...   \n",
       "312553                     53             55.9715               2.971   \n",
       "312554                     43             45.9595               2.959   \n",
       "312555                    186            197.9415              11.941   \n",
       "312556                    187            198.9435              11.943   \n",
       "312557                     14             18.1095               4.109   \n",
       "\n",
       "        Task End Time On Node  Allocation Time  \n",
       "0                1.486253e+06           0.0015  \n",
       "1                1.486750e+06           0.0015  \n",
       "2                1.485014e+06           0.0015  \n",
       "3                1.485931e+06           0.0015  \n",
       "4                1.490826e+06           0.0015  \n",
       "...                       ...              ...  \n",
       "312553           1.500045e+06           2.9715  \n",
       "312554           1.500035e+06           2.9595  \n",
       "312555           1.500187e+06          11.9415  \n",
       "312556           1.500188e+06          11.9435  \n",
       "312557           1.500015e+06           4.1095  \n",
       "\n",
       "[312558 rows x 9 columns]"
      ]
     },
     "execution_count": 8,
     "metadata": {},
     "output_type": "execute_result"
    }
   ],
   "source": [
    "MEGHA_CSV_FILE_PATH = BASE_FILE_PATH / Path(MEGHA_CSV_FILE_NAME)\n",
    "megha_df = pd.read_csv(Path(MEGHA_CSV_FILE_PATH))\n",
    "\n",
    "megha_df[\"Allocation Time\"] = megha_df[\"Task Launch Time\"] - megha_df[\"Job Arrival Time\"] + NETWORK_DELAY\n",
    "\n",
    "megha_df"
   ]
  },
  {
   "cell_type": "code",
   "execution_count": 9,
   "metadata": {},
   "outputs": [
    {
     "data": {
      "text/plain": [
       "Job ID                     int64\n",
       "Task ID                    int64\n",
       "Job Arrival Time         float64\n",
       "Task Launch Time         float64\n",
       "Task Duration (Trace)      int64\n",
       "Task Duration (GM)       float64\n",
       "Task Queuing Delay       float64\n",
       "Task End Time On Node    float64\n",
       "Allocation Time          float64\n",
       "dtype: object"
      ]
     },
     "execution_count": 9,
     "metadata": {},
     "output_type": "execute_result"
    }
   ],
   "source": [
    "megha_df.dtypes"
   ]
  },
  {
   "cell_type": "markdown",
   "metadata": {},
   "source": [
    "---"
   ]
  },
  {
   "cell_type": "code",
   "execution_count": 10,
   "metadata": {},
   "outputs": [
    {
     "data": {
      "text/html": [
       "<div>\n",
       "<style scoped>\n",
       "    .dataframe tbody tr th:only-of-type {\n",
       "        vertical-align: middle;\n",
       "    }\n",
       "\n",
       "    .dataframe tbody tr th {\n",
       "        vertical-align: top;\n",
       "    }\n",
       "\n",
       "    .dataframe thead th {\n",
       "        text-align: right;\n",
       "    }\n",
       "</style>\n",
       "<table border=\"1\" class=\"dataframe\">\n",
       "  <thead>\n",
       "    <tr style=\"text-align: right;\">\n",
       "      <th></th>\n",
       "      <th>Megha Task Allocation Time</th>\n",
       "      <th>Sparrow Task Allocation Time</th>\n",
       "    </tr>\n",
       "  </thead>\n",
       "  <tbody>\n",
       "    <tr>\n",
       "      <th>0</th>\n",
       "      <td>0.0015</td>\n",
       "      <td>0.0015</td>\n",
       "    </tr>\n",
       "    <tr>\n",
       "      <th>1</th>\n",
       "      <td>0.0015</td>\n",
       "      <td>0.0015</td>\n",
       "    </tr>\n",
       "    <tr>\n",
       "      <th>2</th>\n",
       "      <td>0.0015</td>\n",
       "      <td>0.0015</td>\n",
       "    </tr>\n",
       "    <tr>\n",
       "      <th>3</th>\n",
       "      <td>0.0015</td>\n",
       "      <td>0.0015</td>\n",
       "    </tr>\n",
       "    <tr>\n",
       "      <th>4</th>\n",
       "      <td>0.0015</td>\n",
       "      <td>0.0015</td>\n",
       "    </tr>\n",
       "    <tr>\n",
       "      <th>...</th>\n",
       "      <td>...</td>\n",
       "      <td>...</td>\n",
       "    </tr>\n",
       "    <tr>\n",
       "      <th>312553</th>\n",
       "      <td>2.9715</td>\n",
       "      <td>111574.9725</td>\n",
       "    </tr>\n",
       "    <tr>\n",
       "      <th>312554</th>\n",
       "      <td>2.9595</td>\n",
       "      <td>99949.0095</td>\n",
       "    </tr>\n",
       "    <tr>\n",
       "      <th>312555</th>\n",
       "      <td>11.9415</td>\n",
       "      <td>107601.9865</td>\n",
       "    </tr>\n",
       "    <tr>\n",
       "      <th>312556</th>\n",
       "      <td>11.9435</td>\n",
       "      <td>107668.0075</td>\n",
       "    </tr>\n",
       "    <tr>\n",
       "      <th>312557</th>\n",
       "      <td>4.1095</td>\n",
       "      <td>127912.0235</td>\n",
       "    </tr>\n",
       "  </tbody>\n",
       "</table>\n",
       "<p>312558 rows × 2 columns</p>\n",
       "</div>"
      ],
      "text/plain": [
       "        Megha Task Allocation Time  Sparrow Task Allocation Time\n",
       "0                           0.0015                        0.0015\n",
       "1                           0.0015                        0.0015\n",
       "2                           0.0015                        0.0015\n",
       "3                           0.0015                        0.0015\n",
       "4                           0.0015                        0.0015\n",
       "...                            ...                           ...\n",
       "312553                      2.9715                   111574.9725\n",
       "312554                      2.9595                    99949.0095\n",
       "312555                     11.9415                   107601.9865\n",
       "312556                     11.9435                   107668.0075\n",
       "312557                      4.1095                   127912.0235\n",
       "\n",
       "[312558 rows x 2 columns]"
      ]
     },
     "execution_count": 10,
     "metadata": {},
     "output_type": "execute_result"
    }
   ],
   "source": [
    "data = [megha_df[\"Allocation Time\"],\n",
    "        sparrow_df[\"Allocation Time\"],\n",
    "       ]\n",
    "\n",
    "headers = [\"Megha Task Allocation Time\", \"Sparrow Task Allocation Time\"]\n",
    "\n",
    "final_df = pd.concat(data, axis=1, keys=headers)\n",
    "\n",
    "final_df"
   ]
  },
  {
   "cell_type": "code",
   "execution_count": 11,
   "metadata": {},
   "outputs": [
    {
     "data": {
      "text/plain": [
       "RangeIndex(start=0, stop=312558, step=1)"
      ]
     },
     "execution_count": 11,
     "metadata": {},
     "output_type": "execute_result"
    }
   ],
   "source": [
    "final_df.index"
   ]
  },
  {
   "cell_type": "code",
   "execution_count": 12,
   "metadata": {},
   "outputs": [
    {
     "name": "stdout",
     "output_type": "stream",
     "text": [
      "Megha Task Allocation Time\n"
     ]
    },
    {
     "data": {
      "text/plain": [
       "[<matplotlib.lines.Line2D at 0x7fa6bf63a910>]"
      ]
     },
     "execution_count": 12,
     "metadata": {},
     "output_type": "execute_result"
    },
    {
     "data": {
      "image/png": "[encoded data removed]",
      "text/plain": [
       "<Figure size 800x600 with 1 Axes>"
      ]
     },
     "metadata": {},
     "output_type": "display_data"
    }
   ],
   "source": [
    "print(\"Megha Task Allocation Time\")\n",
    "\n",
    "fig = plt.figure(figsize=(8, 6), dpi=100)\n",
    "ax = plt.axes()\n",
    "\n",
    "x = final_df.index  # Job ID\n",
    "y = final_df[\"Megha Task Allocation Time\"]\n",
    "\n",
    "ax.plot(x, y)\n",
    "# plt.savefig('Megha_GOOG.pdf')"
   ]
  },
  {
   "cell_type": "code",
   "execution_count": 13,
   "metadata": {},
   "outputs": [
    {
     "name": "stdout",
     "output_type": "stream",
     "text": [
      "Sparrow Task Allocation Time\n"
     ]
    },
    {
     "data": {
      "image/png": "[encoded data removed]",
      "text/plain": [
       "<Figure size 800x600 with 1 Axes>"
      ]
     },
     "metadata": {},
     "output_type": "display_data"
    }
   ],
   "source": [
    "print(\"Sparrow Task Allocation Time\")\n",
    "\n",
    "fig = plt.figure(figsize=(8, 6), dpi=100)\n",
    "ax = plt.axes()\n",
    "\n",
    "x = final_df.index  # Job ID\n",
    "y = final_df[\"Sparrow Task Allocation Time\"]\n",
    "\n",
    "ax.plot(x, y)\n",
    "\n",
    "plt.show()"
   ]
  },
  {
   "cell_type": "code",
   "execution_count": 14,
   "metadata": {},
   "outputs": [],
   "source": [
    "final_df.to_csv(BASE_FILE_PATH / Path(\"task_allocation_times.csv\"))"
   ]
  },
  {
   "cell_type": "code",
   "execution_count": 15,
   "metadata": {},
   "outputs": [
    {
     "data": {
      "text/plain": [
       "count    312558.000000\n",
       "mean       2017.899814\n",
       "std        3708.362786\n",
       "min           0.001500\n",
       "25%          56.017500\n",
       "50%         456.993500\n",
       "75%        2356.005000\n",
       "max       26015.097500\n",
       "Name: Megha Task Allocation Time, dtype: float64"
      ]
     },
     "execution_count": 15,
     "metadata": {},
     "output_type": "execute_result"
    }
   ],
   "source": [
    "final_df[\"Megha Task Allocation Time\"].describe()"
   ]
  },
  {
   "cell_type": "code",
   "execution_count": 16,
   "metadata": {},
   "outputs": [
    {
     "data": {
      "text/plain": [
       "count    312558.000000\n",
       "mean       3370.088395\n",
       "std        2122.346885\n",
       "min           0.001500\n",
       "25%        2189.045250\n",
       "50%        3535.000500\n",
       "75%        4482.022250\n",
       "max      127912.023500\n",
       "Name: Sparrow Task Allocation Time, dtype: float64"
      ]
     },
     "execution_count": 16,
     "metadata": {},
     "output_type": "execute_result"
    }
   ],
   "source": [
    "final_df[\"Sparrow Task Allocation Time\"].describe()"
   ]
  },
  {
   "cell_type": "markdown",
   "metadata": {},
   "source": [
    "---"
   ]
  }
 ],
 "metadata": {
  "kernelspec": {
   "display_name": "Python 3",
   "language": "python",
   "name": "python3"
  },
  "language_info": {
   "codemirror_mode": {
    "name": "ipython",
    "version": 3
   },
   "file_extension": ".py",
   "mimetype": "text/x-python",
   "name": "python",
   "nbconvert_exporter": "python",
   "pygments_lexer": "ipython3",
   "version": "3.9.7"
  }
 },
 "nbformat": 4,
 "nbformat_minor": 4
}
