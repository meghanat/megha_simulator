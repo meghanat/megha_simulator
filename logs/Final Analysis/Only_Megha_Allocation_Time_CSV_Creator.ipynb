{
 "cells": [
  {
   "cell_type": "markdown",
   "metadata": {},
   "source": [
    "# Notebook to Create the `Allocation Time` CSV File"
   ]
  },
  {
   "cell_type": "code",
   "execution_count": 1,
   "metadata": {},
   "outputs": [],
   "source": [
    "import pandas as pd\n",
    "from pathlib import Path\n",
    "import os\n",
    "\n",
    "%matplotlib inline\n",
    "import matplotlib.pyplot as plt\n",
    "plt.style.use('seaborn-whitegrid')"
   ]
  },
  {
   "cell_type": "code",
   "execution_count": 2,
   "metadata": {},
   "outputs": [],
   "source": [
    "OUTPUT_BASE_FILE_PATH = Path(\"Only Megha\")"
   ]
  },
  {
   "cell_type": "code",
   "execution_count": 3,
   "metadata": {},
   "outputs": [],
   "source": [
    "CENTRALISED_BASE_FILE_PATH = Path(\"New_GOOG_sub_trace_10k_1GM_1LM\")\n",
    "CENTRALISED_CSV_FILE_NAME = [f for f in os.listdir(CENTRALISED_BASE_FILE_PATH)\n",
    "                                 if os.path.isfile(CENTRALISED_BASE_FILE_PATH / Path(f)) and f.endswith(\"_jobs_info.csv\")][0]  # \"record-2022-01-05-14-54-13_jobs_info.csv\"\n",
    "\n",
    "DISTRIBUTED_BASE_FILE_PATH = Path(\"New_GOOG_sub_trace_10k_4GM_25LM\")\n",
    "DISTRIBUTED_CSV_FILE_NAME = [f for f in os.listdir(DISTRIBUTED_BASE_FILE_PATH)\n",
    "                                 if os.path.isfile(DISTRIBUTED_BASE_FILE_PATH / Path(f)) and f.endswith(\"_jobs_info.csv\")][0]  # \"record-2021-12-09-21-03-12_jobs_info.csv\"\n",
    "\n",
    "NETWORK_DELAY = 0.0005"
   ]
  },
  {
   "cell_type": "code",
   "execution_count": 4,
   "metadata": {},
   "outputs": [],
   "source": [
    "# os.listdir(DISTRIBUTED_BASE_FILE_PATH)"
   ]
  },
  {
   "cell_type": "code",
   "execution_count": 5,
   "metadata": {
    "tags": []
   },
   "outputs": [],
   "source": [
    "CSV_FILE_COLUMN_NAME_LIST = [\"Job ID\", \"Task ID\", \"Job Arrival Time\",\n",
    "                             \"Task Launch Time\", \"Task Duration (Trace)\",\n",
    "                             \"Task End Time On Node\"]"
   ]
  },
  {
   "cell_type": "markdown",
   "metadata": {
    "tags": []
   },
   "source": [
    "# Loading the Centralised CSV File"
   ]
  },
  {
   "cell_type": "code",
   "execution_count": 6,
   "metadata": {},
   "outputs": [
    {
     "data": {
      "text/html": [
       "<div>\n",
       "<style scoped>\n",
       "    .dataframe tbody tr th:only-of-type {\n",
       "        vertical-align: middle;\n",
       "    }\n",
       "\n",
       "    .dataframe tbody tr th {\n",
       "        vertical-align: top;\n",
       "    }\n",
       "\n",
       "    .dataframe thead th {\n",
       "        text-align: right;\n",
       "    }\n",
       "</style>\n",
       "<table border=\"1\" class=\"dataframe\">\n",
       "  <thead>\n",
       "    <tr style=\"text-align: right;\">\n",
       "      <th></th>\n",
       "      <th>Job ID</th>\n",
       "      <th>Task ID</th>\n",
       "      <th>Job Arrival Time</th>\n",
       "      <th>Task Launch Time</th>\n",
       "      <th>Task Duration (Trace)</th>\n",
       "      <th>Task Duration (GM)</th>\n",
       "      <th>Task Queuing Delay</th>\n",
       "      <th>Task End Time On Node</th>\n",
       "      <th>Allocation Time</th>\n",
       "    </tr>\n",
       "  </thead>\n",
       "  <tbody>\n",
       "    <tr>\n",
       "      <th>0</th>\n",
       "      <td>1</td>\n",
       "      <td>1</td>\n",
       "      <td>281294.20</td>\n",
       "      <td>281294.201</td>\n",
       "      <td>79782</td>\n",
       "      <td>79782.0015</td>\n",
       "      <td>0.001</td>\n",
       "      <td>361076.2015</td>\n",
       "      <td>0.0015</td>\n",
       "    </tr>\n",
       "    <tr>\n",
       "      <th>1</th>\n",
       "      <td>1</td>\n",
       "      <td>2</td>\n",
       "      <td>281294.20</td>\n",
       "      <td>281294.201</td>\n",
       "      <td>80279</td>\n",
       "      <td>80279.0015</td>\n",
       "      <td>0.001</td>\n",
       "      <td>361573.2015</td>\n",
       "      <td>0.0015</td>\n",
       "    </tr>\n",
       "    <tr>\n",
       "      <th>2</th>\n",
       "      <td>1</td>\n",
       "      <td>3</td>\n",
       "      <td>281294.20</td>\n",
       "      <td>281294.201</td>\n",
       "      <td>78543</td>\n",
       "      <td>78543.0015</td>\n",
       "      <td>0.001</td>\n",
       "      <td>359837.2015</td>\n",
       "      <td>0.0015</td>\n",
       "    </tr>\n",
       "    <tr>\n",
       "      <th>3</th>\n",
       "      <td>1</td>\n",
       "      <td>4</td>\n",
       "      <td>281294.20</td>\n",
       "      <td>281294.201</td>\n",
       "      <td>79460</td>\n",
       "      <td>79460.0015</td>\n",
       "      <td>0.001</td>\n",
       "      <td>360754.2015</td>\n",
       "      <td>0.0015</td>\n",
       "    </tr>\n",
       "    <tr>\n",
       "      <th>4</th>\n",
       "      <td>1</td>\n",
       "      <td>5</td>\n",
       "      <td>281294.20</td>\n",
       "      <td>281294.201</td>\n",
       "      <td>84355</td>\n",
       "      <td>84355.0015</td>\n",
       "      <td>0.001</td>\n",
       "      <td>365649.2015</td>\n",
       "      <td>0.0015</td>\n",
       "    </tr>\n",
       "    <tr>\n",
       "      <th>...</th>\n",
       "      <td>...</td>\n",
       "      <td>...</td>\n",
       "      <td>...</td>\n",
       "      <td>...</td>\n",
       "      <td>...</td>\n",
       "      <td>...</td>\n",
       "      <td>...</td>\n",
       "      <td>...</td>\n",
       "      <td>...</td>\n",
       "    </tr>\n",
       "    <tr>\n",
       "      <th>312553</th>\n",
       "      <td>9997</td>\n",
       "      <td>17</td>\n",
       "      <td>299997.93</td>\n",
       "      <td>300006.433</td>\n",
       "      <td>53</td>\n",
       "      <td>61.5035</td>\n",
       "      <td>8.503</td>\n",
       "      <td>300059.4335</td>\n",
       "      <td>8.5035</td>\n",
       "    </tr>\n",
       "    <tr>\n",
       "      <th>312554</th>\n",
       "      <td>9997</td>\n",
       "      <td>18</td>\n",
       "      <td>299997.93</td>\n",
       "      <td>300006.623</td>\n",
       "      <td>43</td>\n",
       "      <td>51.6935</td>\n",
       "      <td>8.693</td>\n",
       "      <td>300049.6235</td>\n",
       "      <td>8.6935</td>\n",
       "    </tr>\n",
       "    <tr>\n",
       "      <th>312555</th>\n",
       "      <td>9998</td>\n",
       "      <td>1</td>\n",
       "      <td>299997.94</td>\n",
       "      <td>299999.643</td>\n",
       "      <td>186</td>\n",
       "      <td>187.7035</td>\n",
       "      <td>1.703</td>\n",
       "      <td>300185.6435</td>\n",
       "      <td>1.7035</td>\n",
       "    </tr>\n",
       "    <tr>\n",
       "      <th>312556</th>\n",
       "      <td>9999</td>\n",
       "      <td>1</td>\n",
       "      <td>299997.95</td>\n",
       "      <td>299999.645</td>\n",
       "      <td>187</td>\n",
       "      <td>188.6955</td>\n",
       "      <td>1.695</td>\n",
       "      <td>300186.6455</td>\n",
       "      <td>1.6955</td>\n",
       "    </tr>\n",
       "    <tr>\n",
       "      <th>312557</th>\n",
       "      <td>10000</td>\n",
       "      <td>1</td>\n",
       "      <td>299999.40</td>\n",
       "      <td>299999.811</td>\n",
       "      <td>14</td>\n",
       "      <td>14.4115</td>\n",
       "      <td>0.411</td>\n",
       "      <td>300013.8115</td>\n",
       "      <td>0.4115</td>\n",
       "    </tr>\n",
       "  </tbody>\n",
       "</table>\n",
       "<p>312558 rows × 9 columns</p>\n",
       "</div>"
      ],
      "text/plain": [
       "        Job ID  Task ID  Job Arrival Time  Task Launch Time  \\\n",
       "0            1        1         281294.20        281294.201   \n",
       "1            1        2         281294.20        281294.201   \n",
       "2            1        3         281294.20        281294.201   \n",
       "3            1        4         281294.20        281294.201   \n",
       "4            1        5         281294.20        281294.201   \n",
       "...        ...      ...               ...               ...   \n",
       "312553    9997       17         299997.93        300006.433   \n",
       "312554    9997       18         299997.93        300006.623   \n",
       "312555    9998        1         299997.94        299999.643   \n",
       "312556    9999        1         299997.95        299999.645   \n",
       "312557   10000        1         299999.40        299999.811   \n",
       "\n",
       "        Task Duration (Trace)  Task Duration (GM)  Task Queuing Delay  \\\n",
       "0                       79782          79782.0015               0.001   \n",
       "1                       80279          80279.0015               0.001   \n",
       "2                       78543          78543.0015               0.001   \n",
       "3                       79460          79460.0015               0.001   \n",
       "4                       84355          84355.0015               0.001   \n",
       "...                       ...                 ...                 ...   \n",
       "312553                     53             61.5035               8.503   \n",
       "312554                     43             51.6935               8.693   \n",
       "312555                    186            187.7035               1.703   \n",
       "312556                    187            188.6955               1.695   \n",
       "312557                     14             14.4115               0.411   \n",
       "\n",
       "        Task End Time On Node  Allocation Time  \n",
       "0                 361076.2015           0.0015  \n",
       "1                 361573.2015           0.0015  \n",
       "2                 359837.2015           0.0015  \n",
       "3                 360754.2015           0.0015  \n",
       "4                 365649.2015           0.0015  \n",
       "...                       ...              ...  \n",
       "312553            300059.4335           8.5035  \n",
       "312554            300049.6235           8.6935  \n",
       "312555            300185.6435           1.7035  \n",
       "312556            300186.6455           1.6955  \n",
       "312557            300013.8115           0.4115  \n",
       "\n",
       "[312558 rows x 9 columns]"
      ]
     },
     "execution_count": 6,
     "metadata": {},
     "output_type": "execute_result"
    }
   ],
   "source": [
    "CENTRALISED_CSV_FILE_PATH = CENTRALISED_BASE_FILE_PATH / Path(CENTRALISED_CSV_FILE_NAME)\n",
    "\n",
    "centralised_df = pd.read_csv(CENTRALISED_CSV_FILE_PATH)\n",
    "\n",
    "centralised_df[\"Allocation Time\"] = centralised_df[\"Task Launch Time\"] - centralised_df[\"Job Arrival Time\"] + NETWORK_DELAY\n",
    "\n",
    "centralised_df"
   ]
  },
  {
   "cell_type": "code",
   "execution_count": 7,
   "metadata": {},
   "outputs": [],
   "source": [
    "# assert sparrow_df['Task End Time On Node'].equals(sparrow_df['Task End Time On Node (Dervied)'])"
   ]
  },
  {
   "cell_type": "code",
   "execution_count": 8,
   "metadata": {
    "scrolled": true
   },
   "outputs": [
    {
     "data": {
      "text/plain": [
       "Job ID                     int64\n",
       "Task ID                    int64\n",
       "Job Arrival Time         float64\n",
       "Task Launch Time         float64\n",
       "Task Duration (Trace)      int64\n",
       "Task Duration (GM)       float64\n",
       "Task Queuing Delay       float64\n",
       "Task End Time On Node    float64\n",
       "Allocation Time          float64\n",
       "dtype: object"
      ]
     },
     "execution_count": 8,
     "metadata": {},
     "output_type": "execute_result"
    }
   ],
   "source": [
    "centralised_df.dtypes"
   ]
  },
  {
   "cell_type": "markdown",
   "metadata": {},
   "source": [
    "# Loading the Distributed CSV File"
   ]
  },
  {
   "cell_type": "code",
   "execution_count": 9,
   "metadata": {},
   "outputs": [
    {
     "data": {
      "text/html": [
       "<div>\n",
       "<style scoped>\n",
       "    .dataframe tbody tr th:only-of-type {\n",
       "        vertical-align: middle;\n",
       "    }\n",
       "\n",
       "    .dataframe tbody tr th {\n",
       "        vertical-align: top;\n",
       "    }\n",
       "\n",
       "    .dataframe thead th {\n",
       "        text-align: right;\n",
       "    }\n",
       "</style>\n",
       "<table border=\"1\" class=\"dataframe\">\n",
       "  <thead>\n",
       "    <tr style=\"text-align: right;\">\n",
       "      <th></th>\n",
       "      <th>Job ID</th>\n",
       "      <th>Task ID</th>\n",
       "      <th>Job Arrival Time</th>\n",
       "      <th>Task Launch Time</th>\n",
       "      <th>Task Duration (Trace)</th>\n",
       "      <th>Task Duration (GM)</th>\n",
       "      <th>Task Queuing Delay</th>\n",
       "      <th>Task End Time On Node</th>\n",
       "      <th>Allocation Time</th>\n",
       "    </tr>\n",
       "  </thead>\n",
       "  <tbody>\n",
       "    <tr>\n",
       "      <th>0</th>\n",
       "      <td>1</td>\n",
       "      <td>1</td>\n",
       "      <td>281294.20</td>\n",
       "      <td>281294.201</td>\n",
       "      <td>79782</td>\n",
       "      <td>79782.0015</td>\n",
       "      <td>0.001</td>\n",
       "      <td>361076.2015</td>\n",
       "      <td>0.0015</td>\n",
       "    </tr>\n",
       "    <tr>\n",
       "      <th>1</th>\n",
       "      <td>1</td>\n",
       "      <td>2</td>\n",
       "      <td>281294.20</td>\n",
       "      <td>281294.201</td>\n",
       "      <td>80279</td>\n",
       "      <td>80279.0015</td>\n",
       "      <td>0.001</td>\n",
       "      <td>361573.2015</td>\n",
       "      <td>0.0015</td>\n",
       "    </tr>\n",
       "    <tr>\n",
       "      <th>2</th>\n",
       "      <td>1</td>\n",
       "      <td>3</td>\n",
       "      <td>281294.20</td>\n",
       "      <td>281294.201</td>\n",
       "      <td>78543</td>\n",
       "      <td>78543.0015</td>\n",
       "      <td>0.001</td>\n",
       "      <td>359837.2015</td>\n",
       "      <td>0.0015</td>\n",
       "    </tr>\n",
       "    <tr>\n",
       "      <th>3</th>\n",
       "      <td>1</td>\n",
       "      <td>4</td>\n",
       "      <td>281294.20</td>\n",
       "      <td>281294.201</td>\n",
       "      <td>79460</td>\n",
       "      <td>79460.0015</td>\n",
       "      <td>0.001</td>\n",
       "      <td>360754.2015</td>\n",
       "      <td>0.0015</td>\n",
       "    </tr>\n",
       "    <tr>\n",
       "      <th>4</th>\n",
       "      <td>1</td>\n",
       "      <td>5</td>\n",
       "      <td>281294.20</td>\n",
       "      <td>281294.201</td>\n",
       "      <td>84355</td>\n",
       "      <td>84355.0015</td>\n",
       "      <td>0.001</td>\n",
       "      <td>365649.2015</td>\n",
       "      <td>0.0015</td>\n",
       "    </tr>\n",
       "    <tr>\n",
       "      <th>...</th>\n",
       "      <td>...</td>\n",
       "      <td>...</td>\n",
       "      <td>...</td>\n",
       "      <td>...</td>\n",
       "      <td>...</td>\n",
       "      <td>...</td>\n",
       "      <td>...</td>\n",
       "      <td>...</td>\n",
       "      <td>...</td>\n",
       "    </tr>\n",
       "    <tr>\n",
       "      <th>312553</th>\n",
       "      <td>9997</td>\n",
       "      <td>17</td>\n",
       "      <td>299997.93</td>\n",
       "      <td>300004.631</td>\n",
       "      <td>53</td>\n",
       "      <td>59.7015</td>\n",
       "      <td>6.701</td>\n",
       "      <td>300057.6315</td>\n",
       "      <td>6.7015</td>\n",
       "    </tr>\n",
       "    <tr>\n",
       "      <th>312554</th>\n",
       "      <td>9997</td>\n",
       "      <td>18</td>\n",
       "      <td>299997.93</td>\n",
       "      <td>300004.833</td>\n",
       "      <td>43</td>\n",
       "      <td>49.9035</td>\n",
       "      <td>6.903</td>\n",
       "      <td>300047.8335</td>\n",
       "      <td>6.9035</td>\n",
       "    </tr>\n",
       "    <tr>\n",
       "      <th>312555</th>\n",
       "      <td>9998</td>\n",
       "      <td>1</td>\n",
       "      <td>299997.94</td>\n",
       "      <td>300683.025</td>\n",
       "      <td>186</td>\n",
       "      <td>871.0855</td>\n",
       "      <td>685.085</td>\n",
       "      <td>300869.0255</td>\n",
       "      <td>685.0855</td>\n",
       "    </tr>\n",
       "    <tr>\n",
       "      <th>312556</th>\n",
       "      <td>9999</td>\n",
       "      <td>1</td>\n",
       "      <td>299997.95</td>\n",
       "      <td>300683.039</td>\n",
       "      <td>187</td>\n",
       "      <td>872.0895</td>\n",
       "      <td>685.089</td>\n",
       "      <td>300870.0395</td>\n",
       "      <td>685.0895</td>\n",
       "    </tr>\n",
       "    <tr>\n",
       "      <th>312557</th>\n",
       "      <td>10000</td>\n",
       "      <td>1</td>\n",
       "      <td>299999.40</td>\n",
       "      <td>300683.223</td>\n",
       "      <td>14</td>\n",
       "      <td>697.8235</td>\n",
       "      <td>683.823</td>\n",
       "      <td>300697.2235</td>\n",
       "      <td>683.8235</td>\n",
       "    </tr>\n",
       "  </tbody>\n",
       "</table>\n",
       "<p>312558 rows × 9 columns</p>\n",
       "</div>"
      ],
      "text/plain": [
       "        Job ID  Task ID  Job Arrival Time  Task Launch Time  \\\n",
       "0            1        1         281294.20        281294.201   \n",
       "1            1        2         281294.20        281294.201   \n",
       "2            1        3         281294.20        281294.201   \n",
       "3            1        4         281294.20        281294.201   \n",
       "4            1        5         281294.20        281294.201   \n",
       "...        ...      ...               ...               ...   \n",
       "312553    9997       17         299997.93        300004.631   \n",
       "312554    9997       18         299997.93        300004.833   \n",
       "312555    9998        1         299997.94        300683.025   \n",
       "312556    9999        1         299997.95        300683.039   \n",
       "312557   10000        1         299999.40        300683.223   \n",
       "\n",
       "        Task Duration (Trace)  Task Duration (GM)  Task Queuing Delay  \\\n",
       "0                       79782          79782.0015               0.001   \n",
       "1                       80279          80279.0015               0.001   \n",
       "2                       78543          78543.0015               0.001   \n",
       "3                       79460          79460.0015               0.001   \n",
       "4                       84355          84355.0015               0.001   \n",
       "...                       ...                 ...                 ...   \n",
       "312553                     53             59.7015               6.701   \n",
       "312554                     43             49.9035               6.903   \n",
       "312555                    186            871.0855             685.085   \n",
       "312556                    187            872.0895             685.089   \n",
       "312557                     14            697.8235             683.823   \n",
       "\n",
       "        Task End Time On Node  Allocation Time  \n",
       "0                 361076.2015           0.0015  \n",
       "1                 361573.2015           0.0015  \n",
       "2                 359837.2015           0.0015  \n",
       "3                 360754.2015           0.0015  \n",
       "4                 365649.2015           0.0015  \n",
       "...                       ...              ...  \n",
       "312553            300057.6315           6.7015  \n",
       "312554            300047.8335           6.9035  \n",
       "312555            300869.0255         685.0855  \n",
       "312556            300870.0395         685.0895  \n",
       "312557            300697.2235         683.8235  \n",
       "\n",
       "[312558 rows x 9 columns]"
      ]
     },
     "execution_count": 9,
     "metadata": {},
     "output_type": "execute_result"
    }
   ],
   "source": [
    "DISTRIBUTED_CSV_FILE_PATH = DISTRIBUTED_BASE_FILE_PATH / Path(DISTRIBUTED_CSV_FILE_NAME)\n",
    "distributed_df = pd.read_csv(DISTRIBUTED_CSV_FILE_PATH)\n",
    "\n",
    "distributed_df[\"Allocation Time\"] = distributed_df[\"Task Launch Time\"] - distributed_df[\"Job Arrival Time\"] + NETWORK_DELAY\n",
    "\n",
    "distributed_df"
   ]
  },
  {
   "cell_type": "code",
   "execution_count": 10,
   "metadata": {},
   "outputs": [
    {
     "data": {
      "text/plain": [
       "Job ID                     int64\n",
       "Task ID                    int64\n",
       "Job Arrival Time         float64\n",
       "Task Launch Time         float64\n",
       "Task Duration (Trace)      int64\n",
       "Task Duration (GM)       float64\n",
       "Task Queuing Delay       float64\n",
       "Task End Time On Node    float64\n",
       "Allocation Time          float64\n",
       "dtype: object"
      ]
     },
     "execution_count": 10,
     "metadata": {},
     "output_type": "execute_result"
    }
   ],
   "source": [
    "distributed_df.dtypes"
   ]
  },
  {
   "cell_type": "markdown",
   "metadata": {},
   "source": [
    "---"
   ]
  },
  {
   "cell_type": "code",
   "execution_count": 11,
   "metadata": {},
   "outputs": [
    {
     "data": {
      "text/html": [
       "<div>\n",
       "<style scoped>\n",
       "    .dataframe tbody tr th:only-of-type {\n",
       "        vertical-align: middle;\n",
       "    }\n",
       "\n",
       "    .dataframe tbody tr th {\n",
       "        vertical-align: top;\n",
       "    }\n",
       "\n",
       "    .dataframe thead th {\n",
       "        text-align: right;\n",
       "    }\n",
       "</style>\n",
       "<table border=\"1\" class=\"dataframe\">\n",
       "  <thead>\n",
       "    <tr style=\"text-align: right;\">\n",
       "      <th></th>\n",
       "      <th>Megha Centralised Task Allocation Time</th>\n",
       "      <th>Megha Distributed Task Allocation Time</th>\n",
       "    </tr>\n",
       "  </thead>\n",
       "  <tbody>\n",
       "    <tr>\n",
       "      <th>0</th>\n",
       "      <td>0.0015</td>\n",
       "      <td>0.0015</td>\n",
       "    </tr>\n",
       "    <tr>\n",
       "      <th>1</th>\n",
       "      <td>0.0015</td>\n",
       "      <td>0.0015</td>\n",
       "    </tr>\n",
       "    <tr>\n",
       "      <th>2</th>\n",
       "      <td>0.0015</td>\n",
       "      <td>0.0015</td>\n",
       "    </tr>\n",
       "    <tr>\n",
       "      <th>3</th>\n",
       "      <td>0.0015</td>\n",
       "      <td>0.0015</td>\n",
       "    </tr>\n",
       "    <tr>\n",
       "      <th>4</th>\n",
       "      <td>0.0015</td>\n",
       "      <td>0.0015</td>\n",
       "    </tr>\n",
       "    <tr>\n",
       "      <th>...</th>\n",
       "      <td>...</td>\n",
       "      <td>...</td>\n",
       "    </tr>\n",
       "    <tr>\n",
       "      <th>312553</th>\n",
       "      <td>8.5035</td>\n",
       "      <td>6.7015</td>\n",
       "    </tr>\n",
       "    <tr>\n",
       "      <th>312554</th>\n",
       "      <td>8.6935</td>\n",
       "      <td>6.9035</td>\n",
       "    </tr>\n",
       "    <tr>\n",
       "      <th>312555</th>\n",
       "      <td>1.7035</td>\n",
       "      <td>685.0855</td>\n",
       "    </tr>\n",
       "    <tr>\n",
       "      <th>312556</th>\n",
       "      <td>1.6955</td>\n",
       "      <td>685.0895</td>\n",
       "    </tr>\n",
       "    <tr>\n",
       "      <th>312557</th>\n",
       "      <td>0.4115</td>\n",
       "      <td>683.8235</td>\n",
       "    </tr>\n",
       "  </tbody>\n",
       "</table>\n",
       "<p>312558 rows × 2 columns</p>\n",
       "</div>"
      ],
      "text/plain": [
       "        Megha Centralised Task Allocation Time  \\\n",
       "0                                       0.0015   \n",
       "1                                       0.0015   \n",
       "2                                       0.0015   \n",
       "3                                       0.0015   \n",
       "4                                       0.0015   \n",
       "...                                        ...   \n",
       "312553                                  8.5035   \n",
       "312554                                  8.6935   \n",
       "312555                                  1.7035   \n",
       "312556                                  1.6955   \n",
       "312557                                  0.4115   \n",
       "\n",
       "        Megha Distributed Task Allocation Time  \n",
       "0                                       0.0015  \n",
       "1                                       0.0015  \n",
       "2                                       0.0015  \n",
       "3                                       0.0015  \n",
       "4                                       0.0015  \n",
       "...                                        ...  \n",
       "312553                                  6.7015  \n",
       "312554                                  6.9035  \n",
       "312555                                685.0855  \n",
       "312556                                685.0895  \n",
       "312557                                683.8235  \n",
       "\n",
       "[312558 rows x 2 columns]"
      ]
     },
     "execution_count": 11,
     "metadata": {},
     "output_type": "execute_result"
    }
   ],
   "source": [
    "data = [centralised_df[\"Allocation Time\"],\n",
    "        distributed_df[\"Allocation Time\"],\n",
    "       ]\n",
    "\n",
    "headers = [\"Megha Centralised Task Allocation Time\", \"Megha Distributed Task Allocation Time\"]\n",
    "\n",
    "final_df = pd.concat(data, axis=1, keys=headers)\n",
    "\n",
    "final_df"
   ]
  },
  {
   "cell_type": "code",
   "execution_count": 12,
   "metadata": {},
   "outputs": [
    {
     "data": {
      "text/plain": [
       "RangeIndex(start=0, stop=312558, step=1)"
      ]
     },
     "execution_count": 12,
     "metadata": {},
     "output_type": "execute_result"
    }
   ],
   "source": [
    "final_df.index"
   ]
  },
  {
   "cell_type": "code",
   "execution_count": 13,
   "metadata": {},
   "outputs": [
    {
     "name": "stdout",
     "output_type": "stream",
     "text": [
      "Megha Centralised Task Allocation Time\n"
     ]
    },
    {
     "data": {
      "text/plain": [
       "[<matplotlib.lines.Line2D at 0x7f7be1f09730>]"
      ]
     },
     "execution_count": 13,
     "metadata": {},
     "output_type": "execute_result"
    },
    {
     "data": {
      "image/png": "[encoded data removed]",
      "text/plain": [
       "<Figure size 800x600 with 1 Axes>"
      ]
     },
     "metadata": {},
     "output_type": "display_data"
    }
   ],
   "source": [
    "print(\"Megha Centralised Task Allocation Time\")\n",
    "\n",
    "fig = plt.figure(figsize=(8, 6), dpi=100)\n",
    "ax = plt.axes()\n",
    "\n",
    "x = final_df.index  # Job ID\n",
    "y = final_df[\"Megha Centralised Task Allocation Time\"]\n",
    "\n",
    "ax.plot(x, y)"
   ]
  },
  {
   "cell_type": "code",
   "execution_count": 14,
   "metadata": {},
   "outputs": [
    {
     "name": "stdout",
     "output_type": "stream",
     "text": [
      "Megha Distributed Task Allocation Time\n"
     ]
    },
    {
     "data": {
      "image/png": "[encoded data removed]",
      "text/plain": [
       "<Figure size 800x600 with 1 Axes>"
      ]
     },
     "metadata": {},
     "output_type": "display_data"
    }
   ],
   "source": [
    "print(\"Megha Distributed Task Allocation Time\")\n",
    "\n",
    "fig = plt.figure(figsize=(8, 6), dpi=100)\n",
    "ax = plt.axes()\n",
    "\n",
    "x = final_df.index  # Job ID\n",
    "y = final_df[\"Megha Distributed Task Allocation Time\"]\n",
    "\n",
    "ax.plot(x, y)\n",
    "\n",
    "plt.show()"
   ]
  },
  {
   "cell_type": "code",
   "execution_count": 15,
   "metadata": {},
   "outputs": [],
   "source": [
    "try:\n",
    "    os.mkdir(OUTPUT_BASE_FILE_PATH / Path(f\"{CENTRALISED_BASE_FILE_PATH}_{DISTRIBUTED_BASE_FILE_PATH}\"))\n",
    "except FileExistsError as e:\n",
    "    path = OUTPUT_BASE_FILE_PATH / Path(f\"{CENTRALISED_BASE_FILE_PATH}_{DISTRIBUTED_BASE_FILE_PATH}\")\n",
    "    print(f\"Folder: {path} already exists!\")"
   ]
  },
  {
   "cell_type": "code",
   "execution_count": 16,
   "metadata": {},
   "outputs": [],
   "source": [
    "final_df.to_csv(OUTPUT_BASE_FILE_PATH / Path(f\"{CENTRALISED_BASE_FILE_PATH}_{DISTRIBUTED_BASE_FILE_PATH}\") / Path(f\"task_allocation_times_{CENTRALISED_BASE_FILE_PATH}_{DISTRIBUTED_BASE_FILE_PATH}.csv\"))"
   ]
  },
  {
   "cell_type": "code",
   "execution_count": 17,
   "metadata": {},
   "outputs": [
    {
     "data": {
      "text/plain": [
       "count    312558.000000\n",
       "mean      11048.453752\n",
       "std        8576.183160\n",
       "min           0.001500\n",
       "25%        2149.119000\n",
       "50%       11376.841500\n",
       "75%       17167.873000\n",
       "max       31126.427500\n",
       "Name: Megha Centralised Task Allocation Time, dtype: float64"
      ]
     },
     "execution_count": 17,
     "metadata": {},
     "output_type": "execute_result"
    }
   ],
   "source": [
    "final_df[\"Megha Centralised Task Allocation Time\"].describe()"
   ]
  },
  {
   "cell_type": "code",
   "execution_count": 18,
   "metadata": {},
   "outputs": [
    {
     "data": {
      "text/plain": [
       "count    312558.000000\n",
       "mean      12013.557963\n",
       "std        9143.756436\n",
       "min           0.001500\n",
       "25%        2466.708500\n",
       "50%       12679.004500\n",
       "75%       19394.060500\n",
       "max       31530.077500\n",
       "Name: Megha Distributed Task Allocation Time, dtype: float64"
      ]
     },
     "execution_count": 18,
     "metadata": {},
     "output_type": "execute_result"
    }
   ],
   "source": [
    "final_df[\"Megha Distributed Task Allocation Time\"].describe()"
   ]
  },
  {
   "cell_type": "markdown",
   "metadata": {},
   "source": [
    "---"
   ]
  }
 ],
 "metadata": {
  "kernelspec": {
   "display_name": "Python 3",
   "language": "python",
   "name": "python3"
  },
  "language_info": {
   "codemirror_mode": {
    "name": "ipython",
    "version": 3
   },
   "file_extension": ".py",
   "mimetype": "text/x-python",
   "name": "python",
   "nbconvert_exporter": "python",
   "pygments_lexer": "ipython3",
   "version": "3.9.7"
  }
 },
 "nbformat": 4,
 "nbformat_minor": 4
}
